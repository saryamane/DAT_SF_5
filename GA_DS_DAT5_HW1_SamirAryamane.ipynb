{
 "metadata": {
  "name": ""
 },
 "nbformat": 3,
 "nbformat_minor": 0,
 "worksheets": [
  {
   "cells": [
    {
     "cell_type": "heading",
     "level": 1,
     "metadata": {},
     "source": [
      "Question1). How many passengers are in our passenger list? From here forward, we\u2019ll \n",
      "assume our dataset represents the full passenger list for the Titanic."
     ]
    },
    {
     "cell_type": "code",
     "collapsed": false,
     "input": [
      "import pandas as pd"
     ],
     "language": "python",
     "metadata": {},
     "outputs": [],
     "prompt_number": 76
    },
    {
     "cell_type": "code",
     "collapsed": false,
     "input": [
      "data = pd.read_csv('titanic-train.csv')"
     ],
     "language": "python",
     "metadata": {},
     "outputs": [],
     "prompt_number": 77
    },
    {
     "cell_type": "code",
     "collapsed": false,
     "input": [
      "data.head()"
     ],
     "language": "python",
     "metadata": {},
     "outputs": [
      {
       "html": [
        "<div style=\"max-height:1000px;max-width:1500px;overflow:auto;\">\n",
        "<table border=\"1\" class=\"dataframe\">\n",
        "  <thead>\n",
        "    <tr style=\"text-align: right;\">\n",
        "      <th></th>\n",
        "      <th>PassengerId</th>\n",
        "      <th>Survived</th>\n",
        "      <th>Pclass</th>\n",
        "      <th>Name</th>\n",
        "      <th>Sex</th>\n",
        "      <th>Age</th>\n",
        "      <th>SibSp</th>\n",
        "      <th>Parch</th>\n",
        "      <th>Ticket</th>\n",
        "      <th>Fare</th>\n",
        "      <th>Cabin</th>\n",
        "      <th>Embarked</th>\n",
        "    </tr>\n",
        "  </thead>\n",
        "  <tbody>\n",
        "    <tr>\n",
        "      <th>0</th>\n",
        "      <td> 1</td>\n",
        "      <td> 0</td>\n",
        "      <td> 3</td>\n",
        "      <td>                           Braund, Mr. Owen Harris</td>\n",
        "      <td>   male</td>\n",
        "      <td> 22</td>\n",
        "      <td> 1</td>\n",
        "      <td> 0</td>\n",
        "      <td>        A/5 21171</td>\n",
        "      <td>  7.2500</td>\n",
        "      <td>  NaN</td>\n",
        "      <td> S</td>\n",
        "    </tr>\n",
        "    <tr>\n",
        "      <th>1</th>\n",
        "      <td> 2</td>\n",
        "      <td> 1</td>\n",
        "      <td> 1</td>\n",
        "      <td> Cumings, Mrs. John Bradley (Florence Briggs Th...</td>\n",
        "      <td> female</td>\n",
        "      <td> 38</td>\n",
        "      <td> 1</td>\n",
        "      <td> 0</td>\n",
        "      <td>         PC 17599</td>\n",
        "      <td> 71.2833</td>\n",
        "      <td>  C85</td>\n",
        "      <td> C</td>\n",
        "    </tr>\n",
        "    <tr>\n",
        "      <th>2</th>\n",
        "      <td> 3</td>\n",
        "      <td> 1</td>\n",
        "      <td> 3</td>\n",
        "      <td>                            Heikkinen, Miss. Laina</td>\n",
        "      <td> female</td>\n",
        "      <td> 26</td>\n",
        "      <td> 0</td>\n",
        "      <td> 0</td>\n",
        "      <td> STON/O2. 3101282</td>\n",
        "      <td>  7.9250</td>\n",
        "      <td>  NaN</td>\n",
        "      <td> S</td>\n",
        "    </tr>\n",
        "    <tr>\n",
        "      <th>3</th>\n",
        "      <td> 4</td>\n",
        "      <td> 1</td>\n",
        "      <td> 1</td>\n",
        "      <td>      Futrelle, Mrs. Jacques Heath (Lily May Peel)</td>\n",
        "      <td> female</td>\n",
        "      <td> 35</td>\n",
        "      <td> 1</td>\n",
        "      <td> 0</td>\n",
        "      <td>           113803</td>\n",
        "      <td> 53.1000</td>\n",
        "      <td> C123</td>\n",
        "      <td> S</td>\n",
        "    </tr>\n",
        "    <tr>\n",
        "      <th>4</th>\n",
        "      <td> 5</td>\n",
        "      <td> 0</td>\n",
        "      <td> 3</td>\n",
        "      <td>                          Allen, Mr. William Henry</td>\n",
        "      <td>   male</td>\n",
        "      <td> 35</td>\n",
        "      <td> 0</td>\n",
        "      <td> 0</td>\n",
        "      <td>           373450</td>\n",
        "      <td>  8.0500</td>\n",
        "      <td>  NaN</td>\n",
        "      <td> S</td>\n",
        "    </tr>\n",
        "  </tbody>\n",
        "</table>\n",
        "<p>5 rows \u00d7 12 columns</p>\n",
        "</div>"
       ],
       "metadata": {},
       "output_type": "pyout",
       "prompt_number": 78,
       "text": [
        "   PassengerId  Survived  Pclass  \\\n",
        "0            1         0       3   \n",
        "1            2         1       1   \n",
        "2            3         1       3   \n",
        "3            4         1       1   \n",
        "4            5         0       3   \n",
        "\n",
        "                                                Name     Sex  Age  SibSp  \\\n",
        "0                            Braund, Mr. Owen Harris    male   22      1   \n",
        "1  Cumings, Mrs. John Bradley (Florence Briggs Th...  female   38      1   \n",
        "2                             Heikkinen, Miss. Laina  female   26      0   \n",
        "3       Futrelle, Mrs. Jacques Heath (Lily May Peel)  female   35      1   \n",
        "4                           Allen, Mr. William Henry    male   35      0   \n",
        "\n",
        "   Parch            Ticket     Fare Cabin Embarked  \n",
        "0      0         A/5 21171   7.2500   NaN        S  \n",
        "1      0          PC 17599  71.2833   C85        C  \n",
        "2      0  STON/O2. 3101282   7.9250   NaN        S  \n",
        "3      0            113803  53.1000  C123        S  \n",
        "4      0            373450   8.0500   NaN        S  \n",
        "\n",
        "[5 rows x 12 columns]"
       ]
      }
     ],
     "prompt_number": 78
    },
    {
     "cell_type": "raw",
     "metadata": {},
     "source": [
      "Note: Earlier I tried to load the csv using the numpy package with genfromtxt method. Due to the comma \",\" values in the string, \n",
      "that was diffult to parse. Then striked the friendly read_csv function from pandas, as it makes life easier.\n"
     ]
    },
    {
     "cell_type": "code",
     "collapsed": false,
     "input": [
      "data.info()"
     ],
     "language": "python",
     "metadata": {},
     "outputs": [
      {
       "output_type": "stream",
       "stream": "stdout",
       "text": [
        "<class 'pandas.core.frame.DataFrame'>\n",
        "Int64Index: 891 entries, 0 to 890\n",
        "Data columns (total 12 columns):\n",
        "PassengerId    891 non-null int64\n",
        "Survived       891 non-null int64\n",
        "Pclass         891 non-null int64\n",
        "Name           891 non-null object\n",
        "Sex            891 non-null object\n",
        "Age            714 non-null float64\n",
        "SibSp          891 non-null int64\n",
        "Parch          891 non-null int64\n",
        "Ticket         891 non-null object\n",
        "Fare           891 non-null float64\n",
        "Cabin          204 non-null object\n",
        "Embarked       889 non-null object\n",
        "dtypes: float64(2), int64(5), object(5)"
       ]
      }
     ],
     "prompt_number": 79
    },
    {
     "cell_type": "code",
     "collapsed": false,
     "input": [
      "data.PassengerId.count()"
     ],
     "language": "python",
     "metadata": {},
     "outputs": [
      {
       "metadata": {},
       "output_type": "pyout",
       "prompt_number": 80,
       "text": [
        "891"
       ]
      }
     ],
     "prompt_number": 80
    },
    {
     "cell_type": "raw",
     "metadata": {},
     "source": [
      "Answer: This shows there are 891 passengers in our passengers list. It can be also verified by data.info()"
     ]
    },
    {
     "cell_type": "markdown",
     "metadata": {},
     "source": [
      "# Question 2). What is the overall survival rate?"
     ]
    },
    {
     "cell_type": "raw",
     "metadata": {},
     "source": [
      "# Lets find out first how many of the 891 passengers in the Titanic, actually did survive. We may have to apply a filter of Survived = 1 on the dataset we loaded before and then takes it count."
     ]
    },
    {
     "cell_type": "code",
     "collapsed": false,
     "input": [
      "survived_passenger=data[data.Survived > 0]"
     ],
     "language": "python",
     "metadata": {},
     "outputs": [],
     "prompt_number": 81
    },
    {
     "cell_type": "code",
     "collapsed": false,
     "input": [
      "survived_passenger.PassengerId.count()"
     ],
     "language": "python",
     "metadata": {},
     "outputs": [
      {
       "metadata": {},
       "output_type": "pyout",
       "prompt_number": 82,
       "text": [
        "342"
       ]
      }
     ],
     "prompt_number": 82
    },
    {
     "cell_type": "raw",
     "metadata": {},
     "source": [
      "# 342 out of 891 passengers survived. So the survival rate is as below:"
     ]
    },
    {
     "cell_type": "code",
     "collapsed": false,
     "input": [
      "342.0 / 891 * 100"
     ],
     "language": "python",
     "metadata": {},
     "outputs": [
      {
       "metadata": {},
       "output_type": "pyout",
       "prompt_number": 83,
       "text": [
        "38.38383838383838"
       ]
      }
     ],
     "prompt_number": 83
    },
    {
     "cell_type": "raw",
     "metadata": {},
     "source": [
      "Another way of solving this, is to let Python do the sum for you."
     ]
    },
    {
     "cell_type": "code",
     "collapsed": false,
     "input": [
      "float(survived_passenger.PassengerId.count()) / data.PassengerId.count() * 100"
     ],
     "language": "python",
     "metadata": {},
     "outputs": [
      {
       "metadata": {},
       "output_type": "pyout",
       "prompt_number": 84,
       "text": [
        "38.38383838383838"
       ]
      }
     ],
     "prompt_number": 84
    },
    {
     "cell_type": "raw",
     "metadata": {},
     "source": [
      "Answer: The survival rate of the passengers on the Titanic was 38.38%"
     ]
    },
    {
     "cell_type": "markdown",
     "metadata": {},
     "source": [
      "# Question 3). How many male passengers were onboard?"
     ]
    },
    {
     "cell_type": "raw",
     "metadata": {},
     "source": [
      "# Lets find out first how many of the 891 passengers on the Titanic, how many of them were male? We can make use of the field Sex = male to identify them"
     ]
    },
    {
     "cell_type": "code",
     "collapsed": false,
     "input": [
      "male_passenger=data[data.Sex=='male']"
     ],
     "language": "python",
     "metadata": {},
     "outputs": [],
     "prompt_number": 85
    },
    {
     "cell_type": "code",
     "collapsed": false,
     "input": [
      "male_passenger.PassengerId.count()"
     ],
     "language": "python",
     "metadata": {},
     "outputs": [
      {
       "metadata": {},
       "output_type": "pyout",
       "prompt_number": 86,
       "text": [
        "577"
       ]
      }
     ],
     "prompt_number": 86
    },
    {
     "cell_type": "raw",
     "metadata": {},
     "source": [
      "Answer). We see that there were 577 male passengers onboard of Titanic."
     ]
    },
    {
     "cell_type": "markdown",
     "metadata": {},
     "source": [
      "# Question 4). How many female passengers were onboard?"
     ]
    },
    {
     "cell_type": "raw",
     "metadata": {},
     "source": [
      "# Lets find out first how many of the 891 passengers on the Titanic, how many of them were female? We can make use of the field Sex = female to identify them"
     ]
    },
    {
     "cell_type": "code",
     "collapsed": false,
     "input": [
      "female_passenger=data[data.Sex=='female']"
     ],
     "language": "python",
     "metadata": {},
     "outputs": [],
     "prompt_number": 87
    },
    {
     "cell_type": "code",
     "collapsed": false,
     "input": [
      "female_passenger.PassengerId.count()"
     ],
     "language": "python",
     "metadata": {},
     "outputs": [
      {
       "metadata": {},
       "output_type": "pyout",
       "prompt_number": 88,
       "text": [
        "314"
       ]
      }
     ],
     "prompt_number": 88
    },
    {
     "cell_type": "code",
     "collapsed": false,
     "input": [
      "data.PassengerId.count() - male_passenger.PassengerId.count()"
     ],
     "language": "python",
     "metadata": {},
     "outputs": [
      {
       "metadata": {},
       "output_type": "pyout",
       "prompt_number": 89,
       "text": [
        "314"
       ]
      }
     ],
     "prompt_number": 89
    },
    {
     "cell_type": "raw",
     "metadata": {},
     "source": [
      "Answer). We see that there were 314 female passengers onboard of Titanic. It can also be deduced that 891 - 577 male passengers = # female passengers. This is possible because there are no None values within Sex column."
     ]
    },
    {
     "cell_type": "markdown",
     "metadata": {},
     "source": [
      "# Question 5). What is the overall survival rate of male passengers?"
     ]
    },
    {
     "cell_type": "raw",
     "metadata": {},
     "source": [
      "This would be the number of male people survived divided by the number of male people onboard of Titanic."
     ]
    },
    {
     "cell_type": "code",
     "collapsed": false,
     "input": [
      "male_survived = male_passenger[male_passenger.Survived==1]"
     ],
     "language": "python",
     "metadata": {},
     "outputs": [],
     "prompt_number": 90
    },
    {
     "cell_type": "code",
     "collapsed": false,
     "input": [
      "male_survived.PassengerId.count()"
     ],
     "language": "python",
     "metadata": {},
     "outputs": [
      {
       "metadata": {},
       "output_type": "pyout",
       "prompt_number": 91,
       "text": [
        "109"
       ]
      }
     ],
     "prompt_number": 91
    },
    {
     "cell_type": "code",
     "collapsed": false,
     "input": [
      "male_passenger.PassengerId.count()"
     ],
     "language": "python",
     "metadata": {},
     "outputs": [
      {
       "metadata": {},
       "output_type": "pyout",
       "prompt_number": 92,
       "text": [
        "577"
       ]
      }
     ],
     "prompt_number": 92
    },
    {
     "cell_type": "code",
     "collapsed": false,
     "input": [
      "109.0 / 577 * 100"
     ],
     "language": "python",
     "metadata": {},
     "outputs": [
      {
       "metadata": {},
       "output_type": "pyout",
       "prompt_number": 93,
       "text": [
        "18.890814558058924"
       ]
      }
     ],
     "prompt_number": 93
    },
    {
     "cell_type": "raw",
     "metadata": {},
     "source": [
      "Otherwise we can let Python do the math for us."
     ]
    },
    {
     "cell_type": "code",
     "collapsed": false,
     "input": [
      "float(male_survived.PassengerId.count()) / male_passenger.PassengerId.count() * 100"
     ],
     "language": "python",
     "metadata": {},
     "outputs": [
      {
       "metadata": {},
       "output_type": "pyout",
       "prompt_number": 94,
       "text": [
        "18.890814558058924"
       ]
      }
     ],
     "prompt_number": 94
    },
    {
     "cell_type": "raw",
     "metadata": {},
     "source": [
      "Answer): The survival rate amongst male passengers were 18.89%."
     ]
    },
    {
     "cell_type": "markdown",
     "metadata": {},
     "source": [
      "# Question 6). What is the overall survival rate of female passengers?"
     ]
    },
    {
     "cell_type": "raw",
     "metadata": {},
     "source": [
      "This would be the number of female passengers survived divided by the number of female passengers onboard of Titanic."
     ]
    },
    {
     "cell_type": "code",
     "collapsed": false,
     "input": [
      "female_passenger.PassengerId.count()"
     ],
     "language": "python",
     "metadata": {},
     "outputs": [
      {
       "metadata": {},
       "output_type": "pyout",
       "prompt_number": 95,
       "text": [
        "314"
       ]
      }
     ],
     "prompt_number": 95
    },
    {
     "cell_type": "code",
     "collapsed": false,
     "input": [
      "female_survived=female_passenger[female_passenger.Survived==1]"
     ],
     "language": "python",
     "metadata": {},
     "outputs": [],
     "prompt_number": 96
    },
    {
     "cell_type": "code",
     "collapsed": false,
     "input": [
      "female_survived.PassengerId.count()"
     ],
     "language": "python",
     "metadata": {},
     "outputs": [
      {
       "metadata": {},
       "output_type": "pyout",
       "prompt_number": 97,
       "text": [
        "233"
       ]
      }
     ],
     "prompt_number": 97
    },
    {
     "cell_type": "code",
     "collapsed": false,
     "input": [
      "233.0 / 314 * 100"
     ],
     "language": "python",
     "metadata": {},
     "outputs": [
      {
       "metadata": {},
       "output_type": "pyout",
       "prompt_number": 98,
       "text": [
        "74.20382165605095"
       ]
      }
     ],
     "prompt_number": 98
    },
    {
     "cell_type": "markdown",
     "metadata": {},
     "source": [
      "else we let python do the math for us."
     ]
    },
    {
     "cell_type": "code",
     "collapsed": false,
     "input": [
      "float(female_survived.PassengerId.count()) / female_passenger.PassengerId.count() * 100"
     ],
     "language": "python",
     "metadata": {},
     "outputs": [
      {
       "metadata": {},
       "output_type": "pyout",
       "prompt_number": 99,
       "text": [
        "74.20382165605095"
       ]
      }
     ],
     "prompt_number": 99
    },
    {
     "cell_type": "raw",
     "metadata": {},
     "source": [
      "Answer): The survival rate amongst female passengers was 74.20%"
     ]
    },
    {
     "cell_type": "markdown",
     "metadata": {},
     "source": [
      "# Question 7). What is the average age of all passengers onboard?"
     ]
    },
    {
     "cell_type": "heading",
     "level": 1,
     "metadata": {},
     "source": [
      "How did you calculate this average?"
     ]
    },
    {
     "cell_type": "code",
     "collapsed": false,
     "input": [
      "data.info()"
     ],
     "language": "python",
     "metadata": {},
     "outputs": [
      {
       "output_type": "stream",
       "stream": "stdout",
       "text": [
        "<class 'pandas.core.frame.DataFrame'>\n",
        "Int64Index: 891 entries, 0 to 890\n",
        "Data columns (total 12 columns):\n",
        "PassengerId    891 non-null int64\n",
        "Survived       891 non-null int64\n",
        "Pclass         891 non-null int64\n",
        "Name           891 non-null object\n",
        "Sex            891 non-null object\n",
        "Age            714 non-null float64\n",
        "SibSp          891 non-null int64\n",
        "Parch          891 non-null int64\n",
        "Ticket         891 non-null object\n",
        "Fare           891 non-null float64\n",
        "Cabin          204 non-null object\n",
        "Embarked       889 non-null object\n",
        "dtypes: float64(2), int64(5), object(5)"
       ]
      }
     ],
     "prompt_number": 100
    },
    {
     "cell_type": "raw",
     "metadata": {},
     "source": [
      "Looks like the Age column has None data present for some values within the Age field. When we run the mean over that field directly, Pandas removes those records with None value completely and then calculates the mean on the remaining values present in the dataset. This was verified from below test code block."
     ]
    },
    {
     "cell_type": "code",
     "collapsed": false,
     "input": [
      "test_Data = data"
     ],
     "language": "python",
     "metadata": {},
     "outputs": [],
     "prompt_number": 101
    },
    {
     "cell_type": "code",
     "collapsed": false,
     "input": [
      "zero_mean_age=test_Data.Age.fillna(0) #This fills all the NaN values with 0 for the Age field."
     ],
     "language": "python",
     "metadata": {},
     "outputs": [],
     "prompt_number": 102
    },
    {
     "cell_type": "code",
     "collapsed": false,
     "input": [
      "zero_mean_age[zero_mean_age != 0].mean() # Now over non-zero values in Age, we compute the mean on the rest of the records."
     ],
     "language": "python",
     "metadata": {},
     "outputs": [
      {
       "metadata": {},
       "output_type": "pyout",
       "prompt_number": 103,
       "text": [
        "29.69911764705882"
       ]
      }
     ],
     "prompt_number": 103
    },
    {
     "cell_type": "code",
     "collapsed": false,
     "input": [
      "data.Age.mean()"
     ],
     "language": "python",
     "metadata": {},
     "outputs": [
      {
       "metadata": {},
       "output_type": "pyout",
       "prompt_number": 104,
       "text": [
        "29.69911764705882"
       ]
      }
     ],
     "prompt_number": 104
    },
    {
     "cell_type": "raw",
     "metadata": {},
     "source": [
      "We see that both of them are equal."
     ]
    },
    {
     "cell_type": "raw",
     "metadata": {},
     "source": [
      "Answer). Made use of the mean function offered by Pandas on top of the age field. So per the output above, the average age of all passenger\n",
      "onboard Titanic was 29.70"
     ]
    },
    {
     "cell_type": "heading",
     "level": 1,
     "metadata": {},
     "source": [
      "Did you encounter any problems with this calculation?"
     ]
    },
    {
     "cell_type": "raw",
     "metadata": {},
     "source": [
      "Answer). No. Looks like the null values in the dataset for the Age column were automatically handled by Pandas."
     ]
    },
    {
     "cell_type": "heading",
     "level": 1,
     "metadata": {},
     "source": [
      "If so, how did you address any problems?"
     ]
    },
    {
     "cell_type": "raw",
     "metadata": {},
     "source": [
      "Answer). Not applicable."
     ]
    },
    {
     "cell_type": "markdown",
     "metadata": {},
     "source": [
      "# Question 8). What is the average age of passengers who survived?"
     ]
    },
    {
     "cell_type": "raw",
     "metadata": {},
     "source": [
      "We will make use of our previously loaded DataFrame called survived_passenger and then compute the mean over the Age parameter on the survived_passenger dataframe."
     ]
    },
    {
     "cell_type": "code",
     "collapsed": false,
     "input": [
      "survived_passenger.Age.mean()"
     ],
     "language": "python",
     "metadata": {},
     "outputs": [
      {
       "metadata": {},
       "output_type": "pyout",
       "prompt_number": 105,
       "text": [
        "28.343689655172415"
       ]
      }
     ],
     "prompt_number": 105
    },
    {
     "cell_type": "raw",
     "metadata": {},
     "source": [
      "Answer). The average age of passengers who survived is 28.34"
     ]
    },
    {
     "cell_type": "markdown",
     "metadata": {},
     "source": [
      "# Question 9) What is the average age of passengers who did not survive?"
     ]
    },
    {
     "cell_type": "code",
     "collapsed": false,
     "input": [
      "non_survived_passenger = data[data['Survived']==0]"
     ],
     "language": "python",
     "metadata": {},
     "outputs": [],
     "prompt_number": 106
    },
    {
     "cell_type": "code",
     "collapsed": false,
     "input": [
      "non_survived_passenger.PassengerId.count()"
     ],
     "language": "python",
     "metadata": {},
     "outputs": [
      {
       "metadata": {},
       "output_type": "pyout",
       "prompt_number": 107,
       "text": [
        "549"
       ]
      }
     ],
     "prompt_number": 107
    },
    {
     "cell_type": "code",
     "collapsed": false,
     "input": [
      "non_survived_passenger.describe()"
     ],
     "language": "python",
     "metadata": {},
     "outputs": [
      {
       "html": [
        "<div style=\"max-height:1000px;max-width:1500px;overflow:auto;\">\n",
        "<table border=\"1\" class=\"dataframe\">\n",
        "  <thead>\n",
        "    <tr style=\"text-align: right;\">\n",
        "      <th></th>\n",
        "      <th>PassengerId</th>\n",
        "      <th>Survived</th>\n",
        "      <th>Pclass</th>\n",
        "      <th>Age</th>\n",
        "      <th>SibSp</th>\n",
        "      <th>Parch</th>\n",
        "      <th>Fare</th>\n",
        "    </tr>\n",
        "  </thead>\n",
        "  <tbody>\n",
        "    <tr>\n",
        "      <th>count</th>\n",
        "      <td> 549.000000</td>\n",
        "      <td> 549</td>\n",
        "      <td> 549.000000</td>\n",
        "      <td> 424.000000</td>\n",
        "      <td> 549.000000</td>\n",
        "      <td> 549.000000</td>\n",
        "      <td> 549.000000</td>\n",
        "    </tr>\n",
        "    <tr>\n",
        "      <th>mean</th>\n",
        "      <td> 447.016393</td>\n",
        "      <td>   0</td>\n",
        "      <td>   2.531876</td>\n",
        "      <td>  30.626179</td>\n",
        "      <td>   0.553734</td>\n",
        "      <td>   0.329690</td>\n",
        "      <td>  22.117887</td>\n",
        "    </tr>\n",
        "    <tr>\n",
        "      <th>std</th>\n",
        "      <td> 260.640469</td>\n",
        "      <td>   0</td>\n",
        "      <td>   0.735805</td>\n",
        "      <td>  14.172110</td>\n",
        "      <td>   1.288399</td>\n",
        "      <td>   0.823166</td>\n",
        "      <td>  31.388207</td>\n",
        "    </tr>\n",
        "    <tr>\n",
        "      <th>min</th>\n",
        "      <td>   1.000000</td>\n",
        "      <td>   0</td>\n",
        "      <td>   1.000000</td>\n",
        "      <td>   1.000000</td>\n",
        "      <td>   0.000000</td>\n",
        "      <td>   0.000000</td>\n",
        "      <td>   0.000000</td>\n",
        "    </tr>\n",
        "    <tr>\n",
        "      <th>25%</th>\n",
        "      <td> 211.000000</td>\n",
        "      <td>   0</td>\n",
        "      <td>   2.000000</td>\n",
        "      <td>  21.000000</td>\n",
        "      <td>   0.000000</td>\n",
        "      <td>   0.000000</td>\n",
        "      <td>   7.854200</td>\n",
        "    </tr>\n",
        "    <tr>\n",
        "      <th>50%</th>\n",
        "      <td> 455.000000</td>\n",
        "      <td>   0</td>\n",
        "      <td>   3.000000</td>\n",
        "      <td>  28.000000</td>\n",
        "      <td>   0.000000</td>\n",
        "      <td>   0.000000</td>\n",
        "      <td>  10.500000</td>\n",
        "    </tr>\n",
        "    <tr>\n",
        "      <th>75%</th>\n",
        "      <td> 675.000000</td>\n",
        "      <td>   0</td>\n",
        "      <td>   3.000000</td>\n",
        "      <td>  39.000000</td>\n",
        "      <td>   1.000000</td>\n",
        "      <td>   0.000000</td>\n",
        "      <td>  26.000000</td>\n",
        "    </tr>\n",
        "    <tr>\n",
        "      <th>max</th>\n",
        "      <td> 891.000000</td>\n",
        "      <td>   0</td>\n",
        "      <td>   3.000000</td>\n",
        "      <td>  74.000000</td>\n",
        "      <td>   8.000000</td>\n",
        "      <td>   6.000000</td>\n",
        "      <td> 263.000000</td>\n",
        "    </tr>\n",
        "  </tbody>\n",
        "</table>\n",
        "<p>8 rows \u00d7 7 columns</p>\n",
        "</div>"
       ],
       "metadata": {},
       "output_type": "pyout",
       "prompt_number": 108,
       "text": [
        "       PassengerId  Survived      Pclass         Age       SibSp       Parch  \\\n",
        "count   549.000000       549  549.000000  424.000000  549.000000  549.000000   \n",
        "mean    447.016393         0    2.531876   30.626179    0.553734    0.329690   \n",
        "std     260.640469         0    0.735805   14.172110    1.288399    0.823166   \n",
        "min       1.000000         0    1.000000    1.000000    0.000000    0.000000   \n",
        "25%     211.000000         0    2.000000   21.000000    0.000000    0.000000   \n",
        "50%     455.000000         0    3.000000   28.000000    0.000000    0.000000   \n",
        "75%     675.000000         0    3.000000   39.000000    1.000000    0.000000   \n",
        "max     891.000000         0    3.000000   74.000000    8.000000    6.000000   \n",
        "\n",
        "             Fare  \n",
        "count  549.000000  \n",
        "mean    22.117887  \n",
        "std     31.388207  \n",
        "min      0.000000  \n",
        "25%      7.854200  \n",
        "50%     10.500000  \n",
        "75%     26.000000  \n",
        "max    263.000000  \n",
        "\n",
        "[8 rows x 7 columns]"
       ]
      }
     ],
     "prompt_number": 108
    },
    {
     "cell_type": "code",
     "collapsed": false,
     "input": [
      "non_survived_passenger.Age.mean()"
     ],
     "language": "python",
     "metadata": {},
     "outputs": [
      {
       "metadata": {},
       "output_type": "pyout",
       "prompt_number": 109,
       "text": [
        "30.626179245283019"
       ]
      }
     ],
     "prompt_number": 109
    },
    {
     "cell_type": "raw",
     "metadata": {},
     "source": [
      "Answer). The average age of passengers who did not survive is 30.63"
     ]
    },
    {
     "cell_type": "markdown",
     "metadata": {},
     "source": [
      "# Question 10). At this (early) point in our analysis, what might you infer about any patterns you are seeing? "
     ]
    },
    {
     "cell_type": "raw",
     "metadata": {},
     "source": [
      "Answer). The survival rate amongst female passengers (74.20%) was high compared over to male passengers (18.89%). \n",
      "Also young or child passengers had a better survival rate."
     ]
    },
    {
     "cell_type": "markdown",
     "metadata": {},
     "source": [
      "# Question 11). How many passengers are in each of the three classes of service (e.g. First, Second, Third?) \n"
     ]
    },
    {
     "cell_type": "code",
     "collapsed": false,
     "input": [
      "First_class_passenger=data[data.Pclass==1]"
     ],
     "language": "python",
     "metadata": {},
     "outputs": [],
     "prompt_number": 110
    },
    {
     "cell_type": "code",
     "collapsed": false,
     "input": [
      "First_class_passenger.PassengerId.count()"
     ],
     "language": "python",
     "metadata": {},
     "outputs": [
      {
       "metadata": {},
       "output_type": "pyout",
       "prompt_number": 111,
       "text": [
        "216"
       ]
      }
     ],
     "prompt_number": 111
    },
    {
     "cell_type": "raw",
     "metadata": {},
     "source": [
      "Answer). Within the first class, there are 216 passenger counts."
     ]
    },
    {
     "cell_type": "code",
     "collapsed": false,
     "input": [
      "Second_class_passenger=data[data.Pclass==2]"
     ],
     "language": "python",
     "metadata": {},
     "outputs": [],
     "prompt_number": 112
    },
    {
     "cell_type": "code",
     "collapsed": false,
     "input": [
      "Second_class_passenger.PassengerId.count()"
     ],
     "language": "python",
     "metadata": {},
     "outputs": [
      {
       "metadata": {},
       "output_type": "pyout",
       "prompt_number": 113,
       "text": [
        "184"
       ]
      }
     ],
     "prompt_number": 113
    },
    {
     "cell_type": "raw",
     "metadata": {},
     "source": [
      "Answer). Within the second class, there are 184 passenger counts."
     ]
    },
    {
     "cell_type": "code",
     "collapsed": false,
     "input": [
      "Third_class_passenger=data[data.Pclass==3]"
     ],
     "language": "python",
     "metadata": {},
     "outputs": [],
     "prompt_number": 114
    },
    {
     "cell_type": "code",
     "collapsed": false,
     "input": [
      "Third_class_passenger.PassengerId.count()"
     ],
     "language": "python",
     "metadata": {},
     "outputs": [
      {
       "metadata": {},
       "output_type": "pyout",
       "prompt_number": 115,
       "text": [
        "491"
       ]
      }
     ],
     "prompt_number": 115
    },
    {
     "cell_type": "raw",
     "metadata": {},
     "source": [
      "Answer). Within the third class, there are 491 passenger counts."
     ]
    },
    {
     "cell_type": "markdown",
     "metadata": {},
     "source": [
      "# Question 12). What is the survival rate for passengers in each of the three classes of service?"
     ]
    },
    {
     "cell_type": "raw",
     "metadata": {},
     "source": [
      "Lets find the survival rate of the first class passengers, \n",
      "which would be number of first class passengers who survived divided by number of first class passenger."
     ]
    },
    {
     "cell_type": "code",
     "collapsed": false,
     "input": [
      "First_class_passenger[First_class_passenger.Survived==1].PassengerId.count()"
     ],
     "language": "python",
     "metadata": {},
     "outputs": [
      {
       "metadata": {},
       "output_type": "pyout",
       "prompt_number": 116,
       "text": [
        "136"
       ]
      }
     ],
     "prompt_number": 116
    },
    {
     "cell_type": "code",
     "collapsed": false,
     "input": [
      "136 / 216.0 * 100"
     ],
     "language": "python",
     "metadata": {},
     "outputs": [
      {
       "metadata": {},
       "output_type": "pyout",
       "prompt_number": 117,
       "text": [
        "62.96296296296296"
       ]
      }
     ],
     "prompt_number": 117
    },
    {
     "cell_type": "raw",
     "metadata": {},
     "source": [
      "Else let us use Python do the math for us."
     ]
    },
    {
     "cell_type": "code",
     "collapsed": false,
     "input": [
      "float(First_class_passenger[First_class_passenger.Survived==1].PassengerId.count()) / First_class_passenger.PassengerId.count() * 100"
     ],
     "language": "python",
     "metadata": {},
     "outputs": [
      {
       "metadata": {},
       "output_type": "pyout",
       "prompt_number": 118,
       "text": [
        "62.96296296296296"
       ]
      }
     ],
     "prompt_number": 118
    },
    {
     "cell_type": "markdown",
     "metadata": {},
     "source": [
      "Answer). The first class survival rate was 62.96%"
     ]
    },
    {
     "cell_type": "raw",
     "metadata": {},
     "source": [
      "Now lets find the survival rate of the second class passengers, \n",
      "which would be number of second class passengers who survived divided by number of second class passenger."
     ]
    },
    {
     "cell_type": "code",
     "collapsed": false,
     "input": [
      "Second_class_passenger[Second_class_passenger.Survived==1].PassengerId.count()"
     ],
     "language": "python",
     "metadata": {},
     "outputs": [
      {
       "metadata": {},
       "output_type": "pyout",
       "prompt_number": 119,
       "text": [
        "87"
       ]
      }
     ],
     "prompt_number": 119
    },
    {
     "cell_type": "code",
     "collapsed": false,
     "input": [
      "87.0 / 184 * 100"
     ],
     "language": "python",
     "metadata": {},
     "outputs": [
      {
       "metadata": {},
       "output_type": "pyout",
       "prompt_number": 120,
       "text": [
        "47.28260869565217"
       ]
      }
     ],
     "prompt_number": 120
    },
    {
     "cell_type": "raw",
     "metadata": {},
     "source": [
      "Else let us make Python do the math for us. "
     ]
    },
    {
     "cell_type": "code",
     "collapsed": false,
     "input": [
      "float(Second_class_passenger[Second_class_passenger.Survived==1].PassengerId.count()) /Second_class_passenger.PassengerId.count() * 100"
     ],
     "language": "python",
     "metadata": {},
     "outputs": [
      {
       "metadata": {},
       "output_type": "pyout",
       "prompt_number": 121,
       "text": [
        "47.28260869565217"
       ]
      }
     ],
     "prompt_number": 121
    },
    {
     "cell_type": "raw",
     "metadata": {},
     "source": [
      "Answer). The second class survival rate was 47.28%"
     ]
    },
    {
     "cell_type": "raw",
     "metadata": {},
     "source": [
      "Now lets find the survival rate of the third class passengers, \n",
      "which would be number of third class passengers who survived divided b ynumber of third class passenger."
     ]
    },
    {
     "cell_type": "code",
     "collapsed": false,
     "input": [
      "Third_class_passenger[Third_class_passenger.Survived==1].PassengerId.count()"
     ],
     "language": "python",
     "metadata": {},
     "outputs": [
      {
       "metadata": {},
       "output_type": "pyout",
       "prompt_number": 122,
       "text": [
        "119"
       ]
      }
     ],
     "prompt_number": 122
    },
    {
     "cell_type": "code",
     "collapsed": false,
     "input": [
      "119.0 / 491 * 100"
     ],
     "language": "python",
     "metadata": {},
     "outputs": [
      {
       "metadata": {},
       "output_type": "pyout",
       "prompt_number": 123,
       "text": [
        "24.236252545824847"
       ]
      }
     ],
     "prompt_number": 123
    },
    {
     "cell_type": "raw",
     "metadata": {},
     "source": [
      "Else let us make python do the math for us."
     ]
    },
    {
     "cell_type": "code",
     "collapsed": false,
     "input": [
      "float(Third_class_passenger[Third_class_passenger.Survived==1].PassengerId.count()) / Third_class_passenger.PassengerId.count() * 100"
     ],
     "language": "python",
     "metadata": {},
     "outputs": [
      {
       "metadata": {},
       "output_type": "pyout",
       "prompt_number": 124,
       "text": [
        "24.236252545824847"
       ]
      }
     ],
     "prompt_number": 124
    },
    {
     "cell_type": "raw",
     "metadata": {},
     "source": [
      "Answer). The third class survival rate was 24.24%"
     ]
    },
    {
     "cell_type": "markdown",
     "metadata": {},
     "source": [
      "# Question 13). Continuing with 10, what else might you conclude?"
     ]
    },
    {
     "cell_type": "raw",
     "metadata": {},
     "source": [
      "Answer). The data tells us that the first class passengers had a better survival rate, followed behind by the second class.\n",
      "The third class passengers survival rate was very low compared to other two classes."
     ]
    },
    {
     "cell_type": "markdown",
     "metadata": {},
     "source": [
      "# Question 14). Last, if we were to build a predictive model, which features in the data do you think we should include in the model and which can we leave out? Why?"
     ]
    },
    {
     "cell_type": "raw",
     "metadata": {},
     "source": [
      "Answer). While building the predictive model for the survival chances for the passenger on the Titanic ship are as follows. The order of how the co-efficients are applied are important.\n",
      "\n",
      "*). Use PClass, the higher the class the higher the survival rate.\n",
      "*). Use Age, the lower the Age the better chances for Survival.\n",
      "*). Use Sex as the attribute. Female gets higher points when it comes to Survival.\n",
      "\n",
      "We can leave out, PassengerID, Name, SibSp, Parch, Ticket, Cabin and Embarked. We can also exclude the Fare amount too, as it is directly co-related with the PClass attribute. We can also compute the correlation between PClass and Fare to confirm higher co-relation."
     ]
    }
   ],
   "metadata": {}
  }
 ]
}