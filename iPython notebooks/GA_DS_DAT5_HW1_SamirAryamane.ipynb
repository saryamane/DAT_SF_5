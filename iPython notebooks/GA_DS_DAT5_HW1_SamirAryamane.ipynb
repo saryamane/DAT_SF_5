{
 "metadata": {
  "name": ""
 },
 "nbformat": 3,
 "nbformat_minor": 0,
 "worksheets": [
  {
   "cells": [
    {
     "cell_type": "heading",
     "level": 1,
     "metadata": {},
     "source": [
      "Question1). How many passengers are in our passenger list? From here forward, we\u2019ll \n",
      "assume our dataset represents the full passenger list for the Titanic."
     ]
    },
    {
     "cell_type": "code",
     "collapsed": false,
     "input": [
      "import pandas as pd"
     ],
     "language": "python",
     "metadata": {},
     "outputs": [],
     "prompt_number": 13
    },
    {
     "cell_type": "code",
     "collapsed": false,
     "input": [
      "data = pd.read_csv('titanic-train.csv')"
     ],
     "language": "python",
     "metadata": {},
     "outputs": [],
     "prompt_number": 30
    },
    {
     "cell_type": "code",
     "collapsed": false,
     "input": [
      "data.head()"
     ],
     "language": "python",
     "metadata": {},
     "outputs": [
      {
       "html": [
        "<div style=\"max-height:1000px;max-width:1500px;overflow:auto;\">\n",
        "<table border=\"1\" class=\"dataframe\">\n",
        "  <thead>\n",
        "    <tr style=\"text-align: right;\">\n",
        "      <th></th>\n",
        "      <th>PassengerId</th>\n",
        "      <th>Survived</th>\n",
        "      <th>Pclass</th>\n",
        "      <th>Name</th>\n",
        "      <th>Sex</th>\n",
        "      <th>Age</th>\n",
        "      <th>SibSp</th>\n",
        "      <th>Parch</th>\n",
        "      <th>Ticket</th>\n",
        "      <th>Fare</th>\n",
        "      <th>Cabin</th>\n",
        "      <th>Embarked</th>\n",
        "    </tr>\n",
        "  </thead>\n",
        "  <tbody>\n",
        "    <tr>\n",
        "      <th>0</th>\n",
        "      <td> 1</td>\n",
        "      <td> 0</td>\n",
        "      <td> 3</td>\n",
        "      <td>                           Braund, Mr. Owen Harris</td>\n",
        "      <td>   male</td>\n",
        "      <td> 22</td>\n",
        "      <td> 1</td>\n",
        "      <td> 0</td>\n",
        "      <td>        A/5 21171</td>\n",
        "      <td>  7.2500</td>\n",
        "      <td>  NaN</td>\n",
        "      <td> S</td>\n",
        "    </tr>\n",
        "    <tr>\n",
        "      <th>1</th>\n",
        "      <td> 2</td>\n",
        "      <td> 1</td>\n",
        "      <td> 1</td>\n",
        "      <td> Cumings, Mrs. John Bradley (Florence Briggs Th...</td>\n",
        "      <td> female</td>\n",
        "      <td> 38</td>\n",
        "      <td> 1</td>\n",
        "      <td> 0</td>\n",
        "      <td>         PC 17599</td>\n",
        "      <td> 71.2833</td>\n",
        "      <td>  C85</td>\n",
        "      <td> C</td>\n",
        "    </tr>\n",
        "    <tr>\n",
        "      <th>2</th>\n",
        "      <td> 3</td>\n",
        "      <td> 1</td>\n",
        "      <td> 3</td>\n",
        "      <td>                            Heikkinen, Miss. Laina</td>\n",
        "      <td> female</td>\n",
        "      <td> 26</td>\n",
        "      <td> 0</td>\n",
        "      <td> 0</td>\n",
        "      <td> STON/O2. 3101282</td>\n",
        "      <td>  7.9250</td>\n",
        "      <td>  NaN</td>\n",
        "      <td> S</td>\n",
        "    </tr>\n",
        "    <tr>\n",
        "      <th>3</th>\n",
        "      <td> 4</td>\n",
        "      <td> 1</td>\n",
        "      <td> 1</td>\n",
        "      <td>      Futrelle, Mrs. Jacques Heath (Lily May Peel)</td>\n",
        "      <td> female</td>\n",
        "      <td> 35</td>\n",
        "      <td> 1</td>\n",
        "      <td> 0</td>\n",
        "      <td>           113803</td>\n",
        "      <td> 53.1000</td>\n",
        "      <td> C123</td>\n",
        "      <td> S</td>\n",
        "    </tr>\n",
        "    <tr>\n",
        "      <th>4</th>\n",
        "      <td> 5</td>\n",
        "      <td> 0</td>\n",
        "      <td> 3</td>\n",
        "      <td>                          Allen, Mr. William Henry</td>\n",
        "      <td>   male</td>\n",
        "      <td> 35</td>\n",
        "      <td> 0</td>\n",
        "      <td> 0</td>\n",
        "      <td>           373450</td>\n",
        "      <td>  8.0500</td>\n",
        "      <td>  NaN</td>\n",
        "      <td> S</td>\n",
        "    </tr>\n",
        "  </tbody>\n",
        "</table>\n",
        "<p>5 rows \u00d7 12 columns</p>\n",
        "</div>"
       ],
       "metadata": {},
       "output_type": "pyout",
       "prompt_number": 32,
       "text": [
        "   PassengerId  Survived  Pclass  \\\n",
        "0            1         0       3   \n",
        "1            2         1       1   \n",
        "2            3         1       3   \n",
        "3            4         1       1   \n",
        "4            5         0       3   \n",
        "\n",
        "                                                Name     Sex  Age  SibSp  \\\n",
        "0                            Braund, Mr. Owen Harris    male   22      1   \n",
        "1  Cumings, Mrs. John Bradley (Florence Briggs Th...  female   38      1   \n",
        "2                             Heikkinen, Miss. Laina  female   26      0   \n",
        "3       Futrelle, Mrs. Jacques Heath (Lily May Peel)  female   35      1   \n",
        "4                           Allen, Mr. William Henry    male   35      0   \n",
        "\n",
        "   Parch            Ticket     Fare Cabin Embarked  \n",
        "0      0         A/5 21171   7.2500   NaN        S  \n",
        "1      0          PC 17599  71.2833   C85        C  \n",
        "2      0  STON/O2. 3101282   7.9250   NaN        S  \n",
        "3      0            113803  53.1000  C123        S  \n",
        "4      0            373450   8.0500   NaN        S  \n",
        "\n",
        "[5 rows x 12 columns]"
       ]
      }
     ],
     "prompt_number": 32
    },
    {
     "cell_type": "raw",
     "metadata": {},
     "source": [
      "Note: Earlier tried to load the csv using the numpy package with genfromtxt method. Due to the , values in the string, \n",
      "that was diffult to parse. Then striked the friendly read_csv function from pandas, as it makes life easier.\n"
     ]
    },
    {
     "cell_type": "code",
     "collapsed": false,
     "input": [
      "data.info()"
     ],
     "language": "python",
     "metadata": {},
     "outputs": [
      {
       "output_type": "stream",
       "stream": "stdout",
       "text": [
        "<class 'pandas.core.frame.DataFrame'>\n",
        "Int64Index: 891 entries, 0 to 890\n",
        "Data columns (total 12 columns):\n",
        "PassengerId    891 non-null int64\n",
        "Survived       891 non-null int64\n",
        "Pclass         891 non-null int64\n",
        "Name           891 non-null object\n",
        "Sex            891 non-null object\n",
        "Age            714 non-null float64\n",
        "SibSp          891 non-null int64\n",
        "Parch          891 non-null int64\n",
        "Ticket         891 non-null object\n",
        "Fare           891 non-null float64\n",
        "Cabin          204 non-null object\n",
        "Embarked       889 non-null object\n",
        "dtypes: float64(2), int64(5), object(5)"
       ]
      }
     ],
     "prompt_number": 17
    },
    {
     "cell_type": "raw",
     "metadata": {},
     "source": [
      "Answer: This shows there are 891 passengers in our passengers list."
     ]
    },
    {
     "cell_type": "markdown",
     "metadata": {},
     "source": [
      "# Question 2). What is the overall survival rate?"
     ]
    },
    {
     "cell_type": "raw",
     "metadata": {},
     "source": [
      "# Lets find out first how many of the 891 passengers in the Titanic, actually did survive. We may have to apply a filter of Survived = 1 on the dataset we loaded before and then takes it count."
     ]
    },
    {
     "cell_type": "code",
     "collapsed": false,
     "input": [
      "survived_passenger=data[data.Survived > 0]"
     ],
     "language": "python",
     "metadata": {},
     "outputs": [],
     "prompt_number": 35
    },
    {
     "cell_type": "code",
     "collapsed": false,
     "input": [
      "survived_passenger.info()"
     ],
     "language": "python",
     "metadata": {},
     "outputs": [
      {
       "output_type": "stream",
       "stream": "stdout",
       "text": [
        "<class 'pandas.core.frame.DataFrame'>\n",
        "Int64Index: 342 entries, 1 to 889\n",
        "Data columns (total 12 columns):\n",
        "PassengerId    342 non-null int64\n",
        "Survived       342 non-null int64\n",
        "Pclass         342 non-null int64\n",
        "Name           342 non-null object\n",
        "Sex            342 non-null object\n",
        "Age            290 non-null float64\n",
        "SibSp          342 non-null int64\n",
        "Parch          342 non-null int64\n",
        "Ticket         342 non-null object\n",
        "Fare           342 non-null float64\n",
        "Cabin          136 non-null object\n",
        "Embarked       340 non-null object\n",
        "dtypes: float64(2), int64(5), object(5)"
       ]
      }
     ],
     "prompt_number": 40
    },
    {
     "cell_type": "raw",
     "metadata": {},
     "source": [
      "# 342 out of 891 passengers survived. So the survival rate is as below:"
     ]
    },
    {
     "cell_type": "code",
     "collapsed": false,
     "input": [
      "342.0 / 891 * 100"
     ],
     "language": "python",
     "metadata": {},
     "outputs": [
      {
       "metadata": {},
       "output_type": "pyout",
       "prompt_number": 44,
       "text": [
        "38.38383838383838"
       ]
      }
     ],
     "prompt_number": 44
    },
    {
     "cell_type": "raw",
     "metadata": {},
     "source": [
      "Answer: The survival rate of the passengers on the Titanic was 38.38%"
     ]
    },
    {
     "cell_type": "markdown",
     "metadata": {},
     "source": [
      "# Question 3). How many male passengers were onboard?"
     ]
    },
    {
     "cell_type": "raw",
     "metadata": {},
     "source": [
      "# Lets find out first how many of the 891 passengers on the Titanic, how many of them were male? We can make use of the field Sex = male to identify them"
     ]
    },
    {
     "cell_type": "code",
     "collapsed": false,
     "input": [
      "male_passenger=data[data.Sex=='male']"
     ],
     "language": "python",
     "metadata": {},
     "outputs": [],
     "prompt_number": 48
    },
    {
     "cell_type": "code",
     "collapsed": false,
     "input": [
      "male_passenger.info()"
     ],
     "language": "python",
     "metadata": {},
     "outputs": [
      {
       "output_type": "stream",
       "stream": "stdout",
       "text": [
        "<class 'pandas.core.frame.DataFrame'>\n",
        "Int64Index: 577 entries, 0 to 890\n",
        "Data columns (total 12 columns):\n",
        "PassengerId    577 non-null int64\n",
        "Survived       577 non-null int64\n",
        "Pclass         577 non-null int64\n",
        "Name           577 non-null object\n",
        "Sex            577 non-null object\n",
        "Age            453 non-null float64\n",
        "SibSp          577 non-null int64\n",
        "Parch          577 non-null int64\n",
        "Ticket         577 non-null object\n",
        "Fare           577 non-null float64\n",
        "Cabin          107 non-null object\n",
        "Embarked       577 non-null object\n",
        "dtypes: float64(2), int64(5), object(5)"
       ]
      }
     ],
     "prompt_number": 49
    },
    {
     "cell_type": "raw",
     "metadata": {},
     "source": [
      "Answer). We see that there were 577 male passengers onboard of Titanic."
     ]
    },
    {
     "cell_type": "markdown",
     "metadata": {},
     "source": [
      "# Question 4). How many female passengers were onboard?"
     ]
    },
    {
     "cell_type": "raw",
     "metadata": {},
     "source": [
      "# Lets find out first how many of the 891 passengers on the Titanic, how many of them were female? We can make use of the field Sex = female to identify them"
     ]
    },
    {
     "cell_type": "code",
     "collapsed": false,
     "input": [
      "female_passenger=data[data.Sex=='female']"
     ],
     "language": "python",
     "metadata": {},
     "outputs": [],
     "prompt_number": 50
    },
    {
     "cell_type": "code",
     "collapsed": false,
     "input": [
      "female_passenger.info()"
     ],
     "language": "python",
     "metadata": {},
     "outputs": [
      {
       "output_type": "stream",
       "stream": "stdout",
       "text": [
        "<class 'pandas.core.frame.DataFrame'>\n",
        "Int64Index: 314 entries, 1 to 888\n",
        "Data columns (total 12 columns):\n",
        "PassengerId    314 non-null int64\n",
        "Survived       314 non-null int64\n",
        "Pclass         314 non-null int64\n",
        "Name           314 non-null object\n",
        "Sex            314 non-null object\n",
        "Age            261 non-null float64\n",
        "SibSp          314 non-null int64\n",
        "Parch          314 non-null int64\n",
        "Ticket         314 non-null object\n",
        "Fare           314 non-null float64\n",
        "Cabin          97 non-null object\n",
        "Embarked       312 non-null object\n",
        "dtypes: float64(2), int64(5), object(5)"
       ]
      }
     ],
     "prompt_number": 51
    },
    {
     "cell_type": "code",
     "collapsed": false,
     "input": [
      "891 - 577"
     ],
     "language": "python",
     "metadata": {},
     "outputs": [
      {
       "metadata": {},
       "output_type": "pyout",
       "prompt_number": 52,
       "text": [
        "314"
       ]
      }
     ],
     "prompt_number": 52
    },
    {
     "cell_type": "raw",
     "metadata": {},
     "source": [
      "Answer). We see that there were 314 female passengers onboard of Titanic. It can also be deduced that 891 - 577 male passengers = # female passengers."
     ]
    },
    {
     "cell_type": "markdown",
     "metadata": {},
     "source": [
      "# Question 5). What is the overall survival rate of male passengers?"
     ]
    },
    {
     "cell_type": "raw",
     "metadata": {},
     "source": [
      "This would be the number of male people survived divided by the number of male people onboard of Titanic."
     ]
    },
    {
     "cell_type": "code",
     "collapsed": false,
     "input": [
      "male_survived = male_passenger[male_passenger.Survived==1]"
     ],
     "language": "python",
     "metadata": {},
     "outputs": [],
     "prompt_number": 54
    },
    {
     "cell_type": "code",
     "collapsed": false,
     "input": [
      "male_survived.info()"
     ],
     "language": "python",
     "metadata": {},
     "outputs": [
      {
       "output_type": "stream",
       "stream": "stdout",
       "text": [
        "<class 'pandas.core.frame.DataFrame'>\n",
        "Int64Index: 109 entries, 17 to 889\n",
        "Data columns (total 12 columns):\n",
        "PassengerId    109 non-null int64\n",
        "Survived       109 non-null int64\n",
        "Pclass         109 non-null int64\n",
        "Name           109 non-null object\n",
        "Sex            109 non-null object\n",
        "Age            93 non-null float64\n",
        "SibSp          109 non-null int64\n",
        "Parch          109 non-null int64\n",
        "Ticket         109 non-null object\n",
        "Fare           109 non-null float64\n",
        "Cabin          45 non-null object\n",
        "Embarked       109 non-null object\n",
        "dtypes: float64(2), int64(5), object(5)"
       ]
      }
     ],
     "prompt_number": 55
    },
    {
     "cell_type": "code",
     "collapsed": false,
     "input": [
      "male_passenger.info()"
     ],
     "language": "python",
     "metadata": {},
     "outputs": [
      {
       "output_type": "stream",
       "stream": "stdout",
       "text": [
        "<class 'pandas.core.frame.DataFrame'>\n",
        "Int64Index: 577 entries, 0 to 890\n",
        "Data columns (total 12 columns):\n",
        "PassengerId    577 non-null int64\n",
        "Survived       577 non-null int64\n",
        "Pclass         577 non-null int64\n",
        "Name           577 non-null object\n",
        "Sex            577 non-null object\n",
        "Age            453 non-null float64\n",
        "SibSp          577 non-null int64\n",
        "Parch          577 non-null int64\n",
        "Ticket         577 non-null object\n",
        "Fare           577 non-null float64\n",
        "Cabin          107 non-null object\n",
        "Embarked       577 non-null object\n",
        "dtypes: float64(2), int64(5), object(5)"
       ]
      }
     ],
     "prompt_number": 56
    },
    {
     "cell_type": "code",
     "collapsed": false,
     "input": [
      "109.0 / 577 * 100"
     ],
     "language": "python",
     "metadata": {},
     "outputs": [
      {
       "metadata": {},
       "output_type": "pyout",
       "prompt_number": 57,
       "text": [
        "18.890814558058924"
       ]
      }
     ],
     "prompt_number": 57
    },
    {
     "cell_type": "raw",
     "metadata": {},
     "source": [
      "Answer): The survival rate amongst male passengers were 18.89%."
     ]
    },
    {
     "cell_type": "markdown",
     "metadata": {},
     "source": [
      "# Question 6). What is the overall survival rate of female passengers?"
     ]
    },
    {
     "cell_type": "raw",
     "metadata": {},
     "source": [
      "This would be the number of female passengers survived divided by the number of female passengers onboard of Titanic."
     ]
    },
    {
     "cell_type": "code",
     "collapsed": false,
     "input": [
      "female_passenger.info()"
     ],
     "language": "python",
     "metadata": {},
     "outputs": [
      {
       "output_type": "stream",
       "stream": "stdout",
       "text": [
        "<class 'pandas.core.frame.DataFrame'>\n",
        "Int64Index: 314 entries, 1 to 888\n",
        "Data columns (total 12 columns):\n",
        "PassengerId    314 non-null int64\n",
        "Survived       314 non-null int64\n",
        "Pclass         314 non-null int64\n",
        "Name           314 non-null object\n",
        "Sex            314 non-null object\n",
        "Age            261 non-null float64\n",
        "SibSp          314 non-null int64\n",
        "Parch          314 non-null int64\n",
        "Ticket         314 non-null object\n",
        "Fare           314 non-null float64\n",
        "Cabin          97 non-null object\n",
        "Embarked       312 non-null object\n",
        "dtypes: float64(2), int64(5), object(5)"
       ]
      }
     ],
     "prompt_number": 58
    },
    {
     "cell_type": "code",
     "collapsed": false,
     "input": [
      "female_survived=female_passenger[female_passenger.Survived==1]"
     ],
     "language": "python",
     "metadata": {},
     "outputs": [],
     "prompt_number": 59
    },
    {
     "cell_type": "code",
     "collapsed": false,
     "input": [
      "female_survived.info()"
     ],
     "language": "python",
     "metadata": {},
     "outputs": [
      {
       "output_type": "stream",
       "stream": "stdout",
       "text": [
        "<class 'pandas.core.frame.DataFrame'>\n",
        "Int64Index: 233 entries, 1 to 887\n",
        "Data columns (total 12 columns):\n",
        "PassengerId    233 non-null int64\n",
        "Survived       233 non-null int64\n",
        "Pclass         233 non-null int64\n",
        "Name           233 non-null object\n",
        "Sex            233 non-null object\n",
        "Age            197 non-null float64\n",
        "SibSp          233 non-null int64\n",
        "Parch          233 non-null int64\n",
        "Ticket         233 non-null object\n",
        "Fare           233 non-null float64\n",
        "Cabin          91 non-null object\n",
        "Embarked       231 non-null object\n",
        "dtypes: float64(2), int64(5), object(5)"
       ]
      }
     ],
     "prompt_number": 60
    },
    {
     "cell_type": "code",
     "collapsed": false,
     "input": [
      "233.0 / 314 * 100"
     ],
     "language": "python",
     "metadata": {},
     "outputs": [
      {
       "metadata": {},
       "output_type": "pyout",
       "prompt_number": 61,
       "text": [
        "74.20382165605095"
       ]
      }
     ],
     "prompt_number": 61
    },
    {
     "cell_type": "raw",
     "metadata": {},
     "source": [
      "Answer): The survival rate amongst female passengers was 74.20%"
     ]
    },
    {
     "cell_type": "markdown",
     "metadata": {},
     "source": [
      "# Question 7). What is the average age of all passengers onboard?"
     ]
    },
    {
     "cell_type": "heading",
     "level": 1,
     "metadata": {},
     "source": [
      "How did you calculate this average?"
     ]
    },
    {
     "cell_type": "code",
     "collapsed": false,
     "input": [
      "data.Age.mean()"
     ],
     "language": "python",
     "metadata": {},
     "outputs": [
      {
       "metadata": {},
       "output_type": "pyout",
       "prompt_number": 62,
       "text": [
        "29.69911764705882"
       ]
      }
     ],
     "prompt_number": 62
    },
    {
     "cell_type": "raw",
     "metadata": {},
     "source": [
      "Answer). Made use of the mean function offered by Pandas on top of the age field. So per the output above, the average age of all passenger\n",
      "onboard Titanic was 29.70"
     ]
    },
    {
     "cell_type": "heading",
     "level": 1,
     "metadata": {},
     "source": [
      "Did you encounter any problems with this calculation?"
     ]
    },
    {
     "cell_type": "raw",
     "metadata": {},
     "source": [
      "Answer). No. Looks like the null values in the dataset for the Age column were automatically handled by Pandas."
     ]
    },
    {
     "cell_type": "heading",
     "level": 1,
     "metadata": {},
     "source": [
      "If so, how did you address any problems?"
     ]
    },
    {
     "cell_type": "raw",
     "metadata": {},
     "source": [
      "Answer). Not applicable."
     ]
    },
    {
     "cell_type": "markdown",
     "metadata": {},
     "source": [
      "# Question 8). What is the average age of passengers who survived?"
     ]
    },
    {
     "cell_type": "raw",
     "metadata": {},
     "source": [
      "We will make use of our previously loaded DataFrame called survived_passenger and then compute the mean over the Age parameter on the survived_passenger dataframe."
     ]
    },
    {
     "cell_type": "code",
     "collapsed": false,
     "input": [
      "survived_passenger.Age.mean()"
     ],
     "language": "python",
     "metadata": {},
     "outputs": [
      {
       "metadata": {},
       "output_type": "pyout",
       "prompt_number": 63,
       "text": [
        "28.343689655172415"
       ]
      }
     ],
     "prompt_number": 63
    },
    {
     "cell_type": "raw",
     "metadata": {},
     "source": [
      "Answer). The average age of passengers who survived is 28.34"
     ]
    },
    {
     "cell_type": "markdown",
     "metadata": {},
     "source": [
      "# Question 9) What is the average age of passengers who did not survive?"
     ]
    },
    {
     "cell_type": "code",
     "collapsed": false,
     "input": [
      "non_survived_passenger = data[data['Survived']==0]"
     ],
     "language": "python",
     "metadata": {},
     "outputs": [],
     "prompt_number": 64
    },
    {
     "cell_type": "code",
     "collapsed": false,
     "input": [
      "non_survived_passenger.info()"
     ],
     "language": "python",
     "metadata": {},
     "outputs": [
      {
       "output_type": "stream",
       "stream": "stdout",
       "text": [
        "<class 'pandas.core.frame.DataFrame'>\n",
        "Int64Index: 549 entries, 0 to 890\n",
        "Data columns (total 12 columns):\n",
        "PassengerId    549 non-null int64\n",
        "Survived       549 non-null int64\n",
        "Pclass         549 non-null int64\n",
        "Name           549 non-null object\n",
        "Sex            549 non-null object\n",
        "Age            424 non-null float64\n",
        "SibSp          549 non-null int64\n",
        "Parch          549 non-null int64\n",
        "Ticket         549 non-null object\n",
        "Fare           549 non-null float64\n",
        "Cabin          68 non-null object\n",
        "Embarked       549 non-null object\n",
        "dtypes: float64(2), int64(5), object(5)"
       ]
      }
     ],
     "prompt_number": 65
    },
    {
     "cell_type": "code",
     "collapsed": false,
     "input": [
      "non_survived_passenger.Age.mean()"
     ],
     "language": "python",
     "metadata": {},
     "outputs": [
      {
       "metadata": {},
       "output_type": "pyout",
       "prompt_number": 66,
       "text": [
        "30.626179245283019"
       ]
      }
     ],
     "prompt_number": 66
    },
    {
     "cell_type": "raw",
     "metadata": {},
     "source": [
      "Answer). The average age of passengers who did not survive is 30.63"
     ]
    },
    {
     "cell_type": "markdown",
     "metadata": {},
     "source": [
      "# Question 10). At this (early) point in our analysis, what might you infer about any patterns you are seeing? "
     ]
    },
    {
     "cell_type": "raw",
     "metadata": {},
     "source": [
      "Answer). The survival rate amongst female passengers (74.20%) was high compared over to male passengers (18.89%). \n",
      "Also young or child passengers had a better survival rate."
     ]
    },
    {
     "cell_type": "markdown",
     "metadata": {},
     "source": [
      "# Question 11). How many passengers are in each of the three classes of service (e.g. First, Second, Third?) \n"
     ]
    },
    {
     "cell_type": "code",
     "collapsed": false,
     "input": [
      "First_class_passenger=data[data.Pclass==1]"
     ],
     "language": "python",
     "metadata": {},
     "outputs": [],
     "prompt_number": 70
    },
    {
     "cell_type": "code",
     "collapsed": false,
     "input": [
      "First_class_passenger.describe()"
     ],
     "language": "python",
     "metadata": {},
     "outputs": [
      {
       "html": [
        "<div style=\"max-height:1000px;max-width:1500px;overflow:auto;\">\n",
        "<table border=\"1\" class=\"dataframe\">\n",
        "  <thead>\n",
        "    <tr style=\"text-align: right;\">\n",
        "      <th></th>\n",
        "      <th>PassengerId</th>\n",
        "      <th>Survived</th>\n",
        "      <th>Pclass</th>\n",
        "      <th>Age</th>\n",
        "      <th>SibSp</th>\n",
        "      <th>Parch</th>\n",
        "      <th>Fare</th>\n",
        "    </tr>\n",
        "  </thead>\n",
        "  <tbody>\n",
        "    <tr>\n",
        "      <th>count</th>\n",
        "      <td> 216.000000</td>\n",
        "      <td> 216.000000</td>\n",
        "      <td> 216</td>\n",
        "      <td> 186.000000</td>\n",
        "      <td> 216.000000</td>\n",
        "      <td> 216.000000</td>\n",
        "      <td> 216.000000</td>\n",
        "    </tr>\n",
        "    <tr>\n",
        "      <th>mean</th>\n",
        "      <td> 461.597222</td>\n",
        "      <td>   0.629630</td>\n",
        "      <td>   1</td>\n",
        "      <td>  38.233441</td>\n",
        "      <td>   0.416667</td>\n",
        "      <td>   0.356481</td>\n",
        "      <td>  84.154687</td>\n",
        "    </tr>\n",
        "    <tr>\n",
        "      <th>std</th>\n",
        "      <td> 246.737616</td>\n",
        "      <td>   0.484026</td>\n",
        "      <td>   0</td>\n",
        "      <td>  14.802856</td>\n",
        "      <td>   0.611898</td>\n",
        "      <td>   0.693997</td>\n",
        "      <td>  78.380373</td>\n",
        "    </tr>\n",
        "    <tr>\n",
        "      <th>min</th>\n",
        "      <td>   2.000000</td>\n",
        "      <td>   0.000000</td>\n",
        "      <td>   1</td>\n",
        "      <td>   0.920000</td>\n",
        "      <td>   0.000000</td>\n",
        "      <td>   0.000000</td>\n",
        "      <td>   0.000000</td>\n",
        "    </tr>\n",
        "    <tr>\n",
        "      <th>25%</th>\n",
        "      <td> 270.750000</td>\n",
        "      <td>   0.000000</td>\n",
        "      <td>   1</td>\n",
        "      <td>  27.000000</td>\n",
        "      <td>   0.000000</td>\n",
        "      <td>   0.000000</td>\n",
        "      <td>  30.923950</td>\n",
        "    </tr>\n",
        "    <tr>\n",
        "      <th>50%</th>\n",
        "      <td> 472.000000</td>\n",
        "      <td>   1.000000</td>\n",
        "      <td>   1</td>\n",
        "      <td>  37.000000</td>\n",
        "      <td>   0.000000</td>\n",
        "      <td>   0.000000</td>\n",
        "      <td>  60.287500</td>\n",
        "    </tr>\n",
        "    <tr>\n",
        "      <th>75%</th>\n",
        "      <td> 670.500000</td>\n",
        "      <td>   1.000000</td>\n",
        "      <td>   1</td>\n",
        "      <td>  49.000000</td>\n",
        "      <td>   1.000000</td>\n",
        "      <td>   0.000000</td>\n",
        "      <td>  93.500000</td>\n",
        "    </tr>\n",
        "    <tr>\n",
        "      <th>max</th>\n",
        "      <td> 890.000000</td>\n",
        "      <td>   1.000000</td>\n",
        "      <td>   1</td>\n",
        "      <td>  80.000000</td>\n",
        "      <td>   3.000000</td>\n",
        "      <td>   4.000000</td>\n",
        "      <td> 512.329200</td>\n",
        "    </tr>\n",
        "  </tbody>\n",
        "</table>\n",
        "<p>8 rows \u00d7 7 columns</p>\n",
        "</div>"
       ],
       "metadata": {},
       "output_type": "pyout",
       "prompt_number": 74,
       "text": [
        "       PassengerId    Survived  Pclass         Age       SibSp       Parch  \\\n",
        "count   216.000000  216.000000     216  186.000000  216.000000  216.000000   \n",
        "mean    461.597222    0.629630       1   38.233441    0.416667    0.356481   \n",
        "std     246.737616    0.484026       0   14.802856    0.611898    0.693997   \n",
        "min       2.000000    0.000000       1    0.920000    0.000000    0.000000   \n",
        "25%     270.750000    0.000000       1   27.000000    0.000000    0.000000   \n",
        "50%     472.000000    1.000000       1   37.000000    0.000000    0.000000   \n",
        "75%     670.500000    1.000000       1   49.000000    1.000000    0.000000   \n",
        "max     890.000000    1.000000       1   80.000000    3.000000    4.000000   \n",
        "\n",
        "             Fare  \n",
        "count  216.000000  \n",
        "mean    84.154687  \n",
        "std     78.380373  \n",
        "min      0.000000  \n",
        "25%     30.923950  \n",
        "50%     60.287500  \n",
        "75%     93.500000  \n",
        "max    512.329200  \n",
        "\n",
        "[8 rows x 7 columns]"
       ]
      }
     ],
     "prompt_number": 74
    },
    {
     "cell_type": "raw",
     "metadata": {},
     "source": [
      "Answer). Within the first class, there are 216 passenger counts."
     ]
    },
    {
     "cell_type": "code",
     "collapsed": false,
     "input": [
      "Second_class_passenger=data[data.Pclass==2]"
     ],
     "language": "python",
     "metadata": {},
     "outputs": [],
     "prompt_number": 75
    },
    {
     "cell_type": "code",
     "collapsed": false,
     "input": [
      "Second_class_passenger.describe()"
     ],
     "language": "python",
     "metadata": {},
     "outputs": [
      {
       "html": [
        "<div style=\"max-height:1000px;max-width:1500px;overflow:auto;\">\n",
        "<table border=\"1\" class=\"dataframe\">\n",
        "  <thead>\n",
        "    <tr style=\"text-align: right;\">\n",
        "      <th></th>\n",
        "      <th>PassengerId</th>\n",
        "      <th>Survived</th>\n",
        "      <th>Pclass</th>\n",
        "      <th>Age</th>\n",
        "      <th>SibSp</th>\n",
        "      <th>Parch</th>\n",
        "      <th>Fare</th>\n",
        "    </tr>\n",
        "  </thead>\n",
        "  <tbody>\n",
        "    <tr>\n",
        "      <th>count</th>\n",
        "      <td> 184.000000</td>\n",
        "      <td> 184.000000</td>\n",
        "      <td> 184</td>\n",
        "      <td> 173.000000</td>\n",
        "      <td> 184.000000</td>\n",
        "      <td> 184.000000</td>\n",
        "      <td> 184.000000</td>\n",
        "    </tr>\n",
        "    <tr>\n",
        "      <th>mean</th>\n",
        "      <td> 445.956522</td>\n",
        "      <td>   0.472826</td>\n",
        "      <td>   2</td>\n",
        "      <td>  29.877630</td>\n",
        "      <td>   0.402174</td>\n",
        "      <td>   0.380435</td>\n",
        "      <td>  20.662183</td>\n",
        "    </tr>\n",
        "    <tr>\n",
        "      <th>std</th>\n",
        "      <td> 250.852161</td>\n",
        "      <td>   0.500623</td>\n",
        "      <td>   0</td>\n",
        "      <td>  14.001077</td>\n",
        "      <td>   0.601633</td>\n",
        "      <td>   0.690963</td>\n",
        "      <td>  13.417399</td>\n",
        "    </tr>\n",
        "    <tr>\n",
        "      <th>min</th>\n",
        "      <td>  10.000000</td>\n",
        "      <td>   0.000000</td>\n",
        "      <td>   2</td>\n",
        "      <td>   0.670000</td>\n",
        "      <td>   0.000000</td>\n",
        "      <td>   0.000000</td>\n",
        "      <td>   0.000000</td>\n",
        "    </tr>\n",
        "    <tr>\n",
        "      <th>25%</th>\n",
        "      <td> 234.500000</td>\n",
        "      <td>   0.000000</td>\n",
        "      <td>   2</td>\n",
        "      <td>  23.000000</td>\n",
        "      <td>   0.000000</td>\n",
        "      <td>   0.000000</td>\n",
        "      <td>  13.000000</td>\n",
        "    </tr>\n",
        "    <tr>\n",
        "      <th>50%</th>\n",
        "      <td> 435.500000</td>\n",
        "      <td>   0.000000</td>\n",
        "      <td>   2</td>\n",
        "      <td>  29.000000</td>\n",
        "      <td>   0.000000</td>\n",
        "      <td>   0.000000</td>\n",
        "      <td>  14.250000</td>\n",
        "    </tr>\n",
        "    <tr>\n",
        "      <th>75%</th>\n",
        "      <td> 668.000000</td>\n",
        "      <td>   1.000000</td>\n",
        "      <td>   2</td>\n",
        "      <td>  36.000000</td>\n",
        "      <td>   1.000000</td>\n",
        "      <td>   1.000000</td>\n",
        "      <td>  26.000000</td>\n",
        "    </tr>\n",
        "    <tr>\n",
        "      <th>max</th>\n",
        "      <td> 887.000000</td>\n",
        "      <td>   1.000000</td>\n",
        "      <td>   2</td>\n",
        "      <td>  70.000000</td>\n",
        "      <td>   3.000000</td>\n",
        "      <td>   3.000000</td>\n",
        "      <td>  73.500000</td>\n",
        "    </tr>\n",
        "  </tbody>\n",
        "</table>\n",
        "<p>8 rows \u00d7 7 columns</p>\n",
        "</div>"
       ],
       "metadata": {},
       "output_type": "pyout",
       "prompt_number": 76,
       "text": [
        "       PassengerId    Survived  Pclass         Age       SibSp       Parch  \\\n",
        "count   184.000000  184.000000     184  173.000000  184.000000  184.000000   \n",
        "mean    445.956522    0.472826       2   29.877630    0.402174    0.380435   \n",
        "std     250.852161    0.500623       0   14.001077    0.601633    0.690963   \n",
        "min      10.000000    0.000000       2    0.670000    0.000000    0.000000   \n",
        "25%     234.500000    0.000000       2   23.000000    0.000000    0.000000   \n",
        "50%     435.500000    0.000000       2   29.000000    0.000000    0.000000   \n",
        "75%     668.000000    1.000000       2   36.000000    1.000000    1.000000   \n",
        "max     887.000000    1.000000       2   70.000000    3.000000    3.000000   \n",
        "\n",
        "             Fare  \n",
        "count  184.000000  \n",
        "mean    20.662183  \n",
        "std     13.417399  \n",
        "min      0.000000  \n",
        "25%     13.000000  \n",
        "50%     14.250000  \n",
        "75%     26.000000  \n",
        "max     73.500000  \n",
        "\n",
        "[8 rows x 7 columns]"
       ]
      }
     ],
     "prompt_number": 76
    },
    {
     "cell_type": "raw",
     "metadata": {},
     "source": [
      "Answer). Within the second class, there are 148 passenger counts."
     ]
    },
    {
     "cell_type": "code",
     "collapsed": false,
     "input": [
      "Third_class_passenger=data[data.Pclass==3]"
     ],
     "language": "python",
     "metadata": {},
     "outputs": [],
     "prompt_number": 78
    },
    {
     "cell_type": "code",
     "collapsed": false,
     "input": [
      "Third_class_passenger.describe()"
     ],
     "language": "python",
     "metadata": {},
     "outputs": [
      {
       "html": [
        "<div style=\"max-height:1000px;max-width:1500px;overflow:auto;\">\n",
        "<table border=\"1\" class=\"dataframe\">\n",
        "  <thead>\n",
        "    <tr style=\"text-align: right;\">\n",
        "      <th></th>\n",
        "      <th>PassengerId</th>\n",
        "      <th>Survived</th>\n",
        "      <th>Pclass</th>\n",
        "      <th>Age</th>\n",
        "      <th>SibSp</th>\n",
        "      <th>Parch</th>\n",
        "      <th>Fare</th>\n",
        "    </tr>\n",
        "  </thead>\n",
        "  <tbody>\n",
        "    <tr>\n",
        "      <th>count</th>\n",
        "      <td> 491.000000</td>\n",
        "      <td> 491.000000</td>\n",
        "      <td> 491</td>\n",
        "      <td> 355.000000</td>\n",
        "      <td> 491.000000</td>\n",
        "      <td> 491.000000</td>\n",
        "      <td> 491.000000</td>\n",
        "    </tr>\n",
        "    <tr>\n",
        "      <th>mean</th>\n",
        "      <td> 439.154786</td>\n",
        "      <td>   0.242363</td>\n",
        "      <td>   3</td>\n",
        "      <td>  25.140620</td>\n",
        "      <td>   0.615071</td>\n",
        "      <td>   0.393075</td>\n",
        "      <td>  13.675550</td>\n",
        "    </tr>\n",
        "    <tr>\n",
        "      <th>std</th>\n",
        "      <td> 264.441453</td>\n",
        "      <td>   0.428949</td>\n",
        "      <td>   0</td>\n",
        "      <td>  12.495398</td>\n",
        "      <td>   1.374883</td>\n",
        "      <td>   0.888861</td>\n",
        "      <td>  11.778142</td>\n",
        "    </tr>\n",
        "    <tr>\n",
        "      <th>min</th>\n",
        "      <td>   1.000000</td>\n",
        "      <td>   0.000000</td>\n",
        "      <td>   3</td>\n",
        "      <td>   0.420000</td>\n",
        "      <td>   0.000000</td>\n",
        "      <td>   0.000000</td>\n",
        "      <td>   0.000000</td>\n",
        "    </tr>\n",
        "    <tr>\n",
        "      <th>25%</th>\n",
        "      <td> 200.000000</td>\n",
        "      <td>   0.000000</td>\n",
        "      <td>   3</td>\n",
        "      <td>  18.000000</td>\n",
        "      <td>   0.000000</td>\n",
        "      <td>   0.000000</td>\n",
        "      <td>   7.750000</td>\n",
        "    </tr>\n",
        "    <tr>\n",
        "      <th>50%</th>\n",
        "      <td> 432.000000</td>\n",
        "      <td>   0.000000</td>\n",
        "      <td>   3</td>\n",
        "      <td>  24.000000</td>\n",
        "      <td>   0.000000</td>\n",
        "      <td>   0.000000</td>\n",
        "      <td>   8.050000</td>\n",
        "    </tr>\n",
        "    <tr>\n",
        "      <th>75%</th>\n",
        "      <td> 666.500000</td>\n",
        "      <td>   0.000000</td>\n",
        "      <td>   3</td>\n",
        "      <td>  32.000000</td>\n",
        "      <td>   1.000000</td>\n",
        "      <td>   0.000000</td>\n",
        "      <td>  15.500000</td>\n",
        "    </tr>\n",
        "    <tr>\n",
        "      <th>max</th>\n",
        "      <td> 891.000000</td>\n",
        "      <td>   1.000000</td>\n",
        "      <td>   3</td>\n",
        "      <td>  74.000000</td>\n",
        "      <td>   8.000000</td>\n",
        "      <td>   6.000000</td>\n",
        "      <td>  69.550000</td>\n",
        "    </tr>\n",
        "  </tbody>\n",
        "</table>\n",
        "<p>8 rows \u00d7 7 columns</p>\n",
        "</div>"
       ],
       "metadata": {},
       "output_type": "pyout",
       "prompt_number": 79,
       "text": [
        "       PassengerId    Survived  Pclass         Age       SibSp       Parch  \\\n",
        "count   491.000000  491.000000     491  355.000000  491.000000  491.000000   \n",
        "mean    439.154786    0.242363       3   25.140620    0.615071    0.393075   \n",
        "std     264.441453    0.428949       0   12.495398    1.374883    0.888861   \n",
        "min       1.000000    0.000000       3    0.420000    0.000000    0.000000   \n",
        "25%     200.000000    0.000000       3   18.000000    0.000000    0.000000   \n",
        "50%     432.000000    0.000000       3   24.000000    0.000000    0.000000   \n",
        "75%     666.500000    0.000000       3   32.000000    1.000000    0.000000   \n",
        "max     891.000000    1.000000       3   74.000000    8.000000    6.000000   \n",
        "\n",
        "             Fare  \n",
        "count  491.000000  \n",
        "mean    13.675550  \n",
        "std     11.778142  \n",
        "min      0.000000  \n",
        "25%      7.750000  \n",
        "50%      8.050000  \n",
        "75%     15.500000  \n",
        "max     69.550000  \n",
        "\n",
        "[8 rows x 7 columns]"
       ]
      }
     ],
     "prompt_number": 79
    },
    {
     "cell_type": "raw",
     "metadata": {},
     "source": [
      "Answer). Within the third class, there are 491 passenger counts."
     ]
    },
    {
     "cell_type": "markdown",
     "metadata": {},
     "source": [
      "# Question 12). What is the survival rate for passengers in each of the three classes of service?"
     ]
    },
    {
     "cell_type": "raw",
     "metadata": {},
     "source": [
      "Lets find the survival rate of the first class passengers, \n",
      "which would be number of first class passengers who survived divided by number of first class passenger."
     ]
    },
    {
     "cell_type": "code",
     "collapsed": false,
     "input": [
      "First_class_passenger[First_class_passenger.Survived==1].describe()"
     ],
     "language": "python",
     "metadata": {},
     "outputs": [
      {
       "html": [
        "<div style=\"max-height:1000px;max-width:1500px;overflow:auto;\">\n",
        "<table border=\"1\" class=\"dataframe\">\n",
        "  <thead>\n",
        "    <tr style=\"text-align: right;\">\n",
        "      <th></th>\n",
        "      <th>PassengerId</th>\n",
        "      <th>Survived</th>\n",
        "      <th>Pclass</th>\n",
        "      <th>Age</th>\n",
        "      <th>SibSp</th>\n",
        "      <th>Parch</th>\n",
        "      <th>Fare</th>\n",
        "    </tr>\n",
        "  </thead>\n",
        "  <tbody>\n",
        "    <tr>\n",
        "      <th>count</th>\n",
        "      <td> 136.000000</td>\n",
        "      <td> 136</td>\n",
        "      <td> 136</td>\n",
        "      <td> 122.000000</td>\n",
        "      <td> 136.000000</td>\n",
        "      <td> 136.000000</td>\n",
        "      <td> 136.000000</td>\n",
        "    </tr>\n",
        "    <tr>\n",
        "      <th>mean</th>\n",
        "      <td> 491.772059</td>\n",
        "      <td>   1</td>\n",
        "      <td>   1</td>\n",
        "      <td>  35.368197</td>\n",
        "      <td>   0.492647</td>\n",
        "      <td>   0.389706</td>\n",
        "      <td>  95.608029</td>\n",
        "    </tr>\n",
        "    <tr>\n",
        "      <th>std</th>\n",
        "      <td> 239.006988</td>\n",
        "      <td>   0</td>\n",
        "      <td>   0</td>\n",
        "      <td>  13.760017</td>\n",
        "      <td>   0.632412</td>\n",
        "      <td>   0.690387</td>\n",
        "      <td>  85.286820</td>\n",
        "    </tr>\n",
        "    <tr>\n",
        "      <th>min</th>\n",
        "      <td>   2.000000</td>\n",
        "      <td>   1</td>\n",
        "      <td>   1</td>\n",
        "      <td>   0.920000</td>\n",
        "      <td>   0.000000</td>\n",
        "      <td>   0.000000</td>\n",
        "      <td>  25.929200</td>\n",
        "    </tr>\n",
        "    <tr>\n",
        "      <th>25%</th>\n",
        "      <td> 307.750000</td>\n",
        "      <td>   1</td>\n",
        "      <td>   1</td>\n",
        "      <td>  24.250000</td>\n",
        "      <td>   0.000000</td>\n",
        "      <td>   0.000000</td>\n",
        "      <td>  50.985450</td>\n",
        "    </tr>\n",
        "    <tr>\n",
        "      <th>50%</th>\n",
        "      <td> 510.500000</td>\n",
        "      <td>   1</td>\n",
        "      <td>   1</td>\n",
        "      <td>  35.000000</td>\n",
        "      <td>   0.000000</td>\n",
        "      <td>   0.000000</td>\n",
        "      <td>  77.958300</td>\n",
        "    </tr>\n",
        "    <tr>\n",
        "      <th>75%</th>\n",
        "      <td> 693.500000</td>\n",
        "      <td>   1</td>\n",
        "      <td>   1</td>\n",
        "      <td>  45.000000</td>\n",
        "      <td>   1.000000</td>\n",
        "      <td>   1.000000</td>\n",
        "      <td> 111.481225</td>\n",
        "    </tr>\n",
        "    <tr>\n",
        "      <th>max</th>\n",
        "      <td> 890.000000</td>\n",
        "      <td>   1</td>\n",
        "      <td>   1</td>\n",
        "      <td>  80.000000</td>\n",
        "      <td>   3.000000</td>\n",
        "      <td>   2.000000</td>\n",
        "      <td> 512.329200</td>\n",
        "    </tr>\n",
        "  </tbody>\n",
        "</table>\n",
        "<p>8 rows \u00d7 7 columns</p>\n",
        "</div>"
       ],
       "metadata": {},
       "output_type": "pyout",
       "prompt_number": 81,
       "text": [
        "       PassengerId  Survived  Pclass         Age       SibSp       Parch  \\\n",
        "count   136.000000       136     136  122.000000  136.000000  136.000000   \n",
        "mean    491.772059         1       1   35.368197    0.492647    0.389706   \n",
        "std     239.006988         0       0   13.760017    0.632412    0.690387   \n",
        "min       2.000000         1       1    0.920000    0.000000    0.000000   \n",
        "25%     307.750000         1       1   24.250000    0.000000    0.000000   \n",
        "50%     510.500000         1       1   35.000000    0.000000    0.000000   \n",
        "75%     693.500000         1       1   45.000000    1.000000    1.000000   \n",
        "max     890.000000         1       1   80.000000    3.000000    2.000000   \n",
        "\n",
        "             Fare  \n",
        "count  136.000000  \n",
        "mean    95.608029  \n",
        "std     85.286820  \n",
        "min     25.929200  \n",
        "25%     50.985450  \n",
        "50%     77.958300  \n",
        "75%    111.481225  \n",
        "max    512.329200  \n",
        "\n",
        "[8 rows x 7 columns]"
       ]
      }
     ],
     "prompt_number": 81
    },
    {
     "cell_type": "code",
     "collapsed": false,
     "input": [
      "136 / 216.0 * 100"
     ],
     "language": "python",
     "metadata": {},
     "outputs": [
      {
       "metadata": {},
       "output_type": "pyout",
       "prompt_number": 82,
       "text": [
        "62.96296296296296"
       ]
      }
     ],
     "prompt_number": 82
    },
    {
     "cell_type": "raw",
     "metadata": {},
     "source": [
      "Answer). The first class survival rate was 62.96%"
     ]
    },
    {
     "cell_type": "raw",
     "metadata": {},
     "source": [
      "Now lets find the survival rate of the second class passengers, \n",
      "which would be number of second class passengers who survived divided by number of second class passenger."
     ]
    },
    {
     "cell_type": "code",
     "collapsed": false,
     "input": [
      "Second_class_passenger[Second_class_passenger.Survived==1].describe()"
     ],
     "language": "python",
     "metadata": {},
     "outputs": [
      {
       "html": [
        "<div style=\"max-height:1000px;max-width:1500px;overflow:auto;\">\n",
        "<table border=\"1\" class=\"dataframe\">\n",
        "  <thead>\n",
        "    <tr style=\"text-align: right;\">\n",
        "      <th></th>\n",
        "      <th>PassengerId</th>\n",
        "      <th>Survived</th>\n",
        "      <th>Pclass</th>\n",
        "      <th>Age</th>\n",
        "      <th>SibSp</th>\n",
        "      <th>Parch</th>\n",
        "      <th>Fare</th>\n",
        "    </tr>\n",
        "  </thead>\n",
        "  <tbody>\n",
        "    <tr>\n",
        "      <th>count</th>\n",
        "      <td>  87.000000</td>\n",
        "      <td> 87</td>\n",
        "      <td> 87</td>\n",
        "      <td> 83.000000</td>\n",
        "      <td> 87.000000</td>\n",
        "      <td> 87.000000</td>\n",
        "      <td> 87.000000</td>\n",
        "    </tr>\n",
        "    <tr>\n",
        "      <th>mean</th>\n",
        "      <td> 439.080460</td>\n",
        "      <td>  1</td>\n",
        "      <td>  2</td>\n",
        "      <td> 25.901566</td>\n",
        "      <td>  0.494253</td>\n",
        "      <td>  0.643678</td>\n",
        "      <td> 22.055700</td>\n",
        "    </tr>\n",
        "    <tr>\n",
        "      <th>std</th>\n",
        "      <td> 244.211937</td>\n",
        "      <td>  0</td>\n",
        "      <td>  0</td>\n",
        "      <td> 14.837787</td>\n",
        "      <td>  0.644720</td>\n",
        "      <td>  0.820904</td>\n",
        "      <td> 10.853502</td>\n",
        "    </tr>\n",
        "    <tr>\n",
        "      <th>min</th>\n",
        "      <td>  10.000000</td>\n",
        "      <td>  1</td>\n",
        "      <td>  2</td>\n",
        "      <td>  0.670000</td>\n",
        "      <td>  0.000000</td>\n",
        "      <td>  0.000000</td>\n",
        "      <td> 10.500000</td>\n",
        "    </tr>\n",
        "    <tr>\n",
        "      <th>25%</th>\n",
        "      <td> 254.000000</td>\n",
        "      <td>  1</td>\n",
        "      <td>  2</td>\n",
        "      <td> 17.500000</td>\n",
        "      <td>  0.000000</td>\n",
        "      <td>  0.000000</td>\n",
        "      <td> 13.000000</td>\n",
        "    </tr>\n",
        "    <tr>\n",
        "      <th>50%</th>\n",
        "      <td> 441.000000</td>\n",
        "      <td>  1</td>\n",
        "      <td>  2</td>\n",
        "      <td> 28.000000</td>\n",
        "      <td>  0.000000</td>\n",
        "      <td>  0.000000</td>\n",
        "      <td> 21.000000</td>\n",
        "    </tr>\n",
        "    <tr>\n",
        "      <th>75%</th>\n",
        "      <td> 612.500000</td>\n",
        "      <td>  1</td>\n",
        "      <td>  2</td>\n",
        "      <td> 34.000000</td>\n",
        "      <td>  1.000000</td>\n",
        "      <td>  1.000000</td>\n",
        "      <td> 26.250000</td>\n",
        "    </tr>\n",
        "    <tr>\n",
        "      <th>max</th>\n",
        "      <td> 881.000000</td>\n",
        "      <td>  1</td>\n",
        "      <td>  2</td>\n",
        "      <td> 62.000000</td>\n",
        "      <td>  3.000000</td>\n",
        "      <td>  3.000000</td>\n",
        "      <td> 65.000000</td>\n",
        "    </tr>\n",
        "  </tbody>\n",
        "</table>\n",
        "<p>8 rows \u00d7 7 columns</p>\n",
        "</div>"
       ],
       "metadata": {},
       "output_type": "pyout",
       "prompt_number": 83,
       "text": [
        "       PassengerId  Survived  Pclass        Age      SibSp      Parch  \\\n",
        "count    87.000000        87      87  83.000000  87.000000  87.000000   \n",
        "mean    439.080460         1       2  25.901566   0.494253   0.643678   \n",
        "std     244.211937         0       0  14.837787   0.644720   0.820904   \n",
        "min      10.000000         1       2   0.670000   0.000000   0.000000   \n",
        "25%     254.000000         1       2  17.500000   0.000000   0.000000   \n",
        "50%     441.000000         1       2  28.000000   0.000000   0.000000   \n",
        "75%     612.500000         1       2  34.000000   1.000000   1.000000   \n",
        "max     881.000000         1       2  62.000000   3.000000   3.000000   \n",
        "\n",
        "            Fare  \n",
        "count  87.000000  \n",
        "mean   22.055700  \n",
        "std    10.853502  \n",
        "min    10.500000  \n",
        "25%    13.000000  \n",
        "50%    21.000000  \n",
        "75%    26.250000  \n",
        "max    65.000000  \n",
        "\n",
        "[8 rows x 7 columns]"
       ]
      }
     ],
     "prompt_number": 83
    },
    {
     "cell_type": "code",
     "collapsed": false,
     "input": [
      "87.0 / 148 * 100"
     ],
     "language": "python",
     "metadata": {},
     "outputs": [
      {
       "metadata": {},
       "output_type": "pyout",
       "prompt_number": 84,
       "text": [
        "58.78378378378378"
       ]
      }
     ],
     "prompt_number": 84
    },
    {
     "cell_type": "raw",
     "metadata": {},
     "source": [
      "Answer). The second class survival rate was 58.78%"
     ]
    },
    {
     "cell_type": "raw",
     "metadata": {},
     "source": [
      "Now lets find the survival rate of the third class passengers, \n",
      "which would be number of third class passengers who survived divided b ynumber of third class passenger."
     ]
    },
    {
     "cell_type": "code",
     "collapsed": false,
     "input": [
      "Third_class_passenger[Third_class_passenger.Survived==1].describe()"
     ],
     "language": "python",
     "metadata": {},
     "outputs": [
      {
       "html": [
        "<div style=\"max-height:1000px;max-width:1500px;overflow:auto;\">\n",
        "<table border=\"1\" class=\"dataframe\">\n",
        "  <thead>\n",
        "    <tr style=\"text-align: right;\">\n",
        "      <th></th>\n",
        "      <th>PassengerId</th>\n",
        "      <th>Survived</th>\n",
        "      <th>Pclass</th>\n",
        "      <th>Age</th>\n",
        "      <th>SibSp</th>\n",
        "      <th>Parch</th>\n",
        "      <th>Fare</th>\n",
        "    </tr>\n",
        "  </thead>\n",
        "  <tbody>\n",
        "    <tr>\n",
        "      <th>count</th>\n",
        "      <td> 119.000000</td>\n",
        "      <td> 119</td>\n",
        "      <td> 119</td>\n",
        "      <td> 85.000000</td>\n",
        "      <td> 119.000000</td>\n",
        "      <td> 119.000000</td>\n",
        "      <td> 119.000000</td>\n",
        "    </tr>\n",
        "    <tr>\n",
        "      <th>mean</th>\n",
        "      <td> 394.058824</td>\n",
        "      <td>   1</td>\n",
        "      <td>   3</td>\n",
        "      <td> 20.646118</td>\n",
        "      <td>   0.436975</td>\n",
        "      <td>   0.420168</td>\n",
        "      <td>  13.694887</td>\n",
        "    </tr>\n",
        "    <tr>\n",
        "      <th>std</th>\n",
        "      <td> 264.680245</td>\n",
        "      <td>   0</td>\n",
        "      <td>   0</td>\n",
        "      <td> 11.995047</td>\n",
        "      <td>   0.829934</td>\n",
        "      <td>   0.807757</td>\n",
        "      <td>  10.692993</td>\n",
        "    </tr>\n",
        "    <tr>\n",
        "      <th>min</th>\n",
        "      <td>   3.000000</td>\n",
        "      <td>   1</td>\n",
        "      <td>   3</td>\n",
        "      <td>  0.420000</td>\n",
        "      <td>   0.000000</td>\n",
        "      <td>   0.000000</td>\n",
        "      <td>   0.000000</td>\n",
        "    </tr>\n",
        "    <tr>\n",
        "      <th>25%</th>\n",
        "      <td> 169.500000</td>\n",
        "      <td>   1</td>\n",
        "      <td>   3</td>\n",
        "      <td> 14.000000</td>\n",
        "      <td>   0.000000</td>\n",
        "      <td>   0.000000</td>\n",
        "      <td>   7.775000</td>\n",
        "    </tr>\n",
        "    <tr>\n",
        "      <th>50%</th>\n",
        "      <td> 359.000000</td>\n",
        "      <td>   1</td>\n",
        "      <td>   3</td>\n",
        "      <td> 22.000000</td>\n",
        "      <td>   0.000000</td>\n",
        "      <td>   0.000000</td>\n",
        "      <td>   8.516700</td>\n",
        "    </tr>\n",
        "    <tr>\n",
        "      <th>75%</th>\n",
        "      <td> 633.500000</td>\n",
        "      <td>   1</td>\n",
        "      <td>   3</td>\n",
        "      <td> 29.000000</td>\n",
        "      <td>   1.000000</td>\n",
        "      <td>   1.000000</td>\n",
        "      <td>  15.875000</td>\n",
        "    </tr>\n",
        "    <tr>\n",
        "      <th>max</th>\n",
        "      <td> 876.000000</td>\n",
        "      <td>   1</td>\n",
        "      <td>   3</td>\n",
        "      <td> 63.000000</td>\n",
        "      <td>   4.000000</td>\n",
        "      <td>   5.000000</td>\n",
        "      <td>  56.495800</td>\n",
        "    </tr>\n",
        "  </tbody>\n",
        "</table>\n",
        "<p>8 rows \u00d7 7 columns</p>\n",
        "</div>"
       ],
       "metadata": {},
       "output_type": "pyout",
       "prompt_number": 90,
       "text": [
        "       PassengerId  Survived  Pclass        Age       SibSp       Parch  \\\n",
        "count   119.000000       119     119  85.000000  119.000000  119.000000   \n",
        "mean    394.058824         1       3  20.646118    0.436975    0.420168   \n",
        "std     264.680245         0       0  11.995047    0.829934    0.807757   \n",
        "min       3.000000         1       3   0.420000    0.000000    0.000000   \n",
        "25%     169.500000         1       3  14.000000    0.000000    0.000000   \n",
        "50%     359.000000         1       3  22.000000    0.000000    0.000000   \n",
        "75%     633.500000         1       3  29.000000    1.000000    1.000000   \n",
        "max     876.000000         1       3  63.000000    4.000000    5.000000   \n",
        "\n",
        "             Fare  \n",
        "count  119.000000  \n",
        "mean    13.694887  \n",
        "std     10.692993  \n",
        "min      0.000000  \n",
        "25%      7.775000  \n",
        "50%      8.516700  \n",
        "75%     15.875000  \n",
        "max     56.495800  \n",
        "\n",
        "[8 rows x 7 columns]"
       ]
      }
     ],
     "prompt_number": 90
    },
    {
     "cell_type": "code",
     "collapsed": false,
     "input": [
      "119.0 / 491 * 100"
     ],
     "language": "python",
     "metadata": {},
     "outputs": [
      {
       "metadata": {},
       "output_type": "pyout",
       "prompt_number": 87,
       "text": [
        "24.236252545824847"
       ]
      }
     ],
     "prompt_number": 87
    },
    {
     "cell_type": "raw",
     "metadata": {},
     "source": [
      "Answer). The third class survival rate was 24.24%"
     ]
    },
    {
     "cell_type": "markdown",
     "metadata": {},
     "source": [
      "# Question 13). Continuing with 10, what else might you conclude?"
     ]
    },
    {
     "cell_type": "raw",
     "metadata": {},
     "source": [
      "Answer). The data tells us that the first class passengers had a better survival rate, followed by not too far behind the second class.\n",
      "The third class passengers survival rate was very low compared to other two classes."
     ]
    },
    {
     "cell_type": "markdown",
     "metadata": {},
     "source": [
      "# Question 14). Last, if we were to build a predictive model, which features in the data do you think we should include in the model and which can we leave out? Why?"
     ]
    },
    {
     "cell_type": "raw",
     "metadata": {},
     "source": [
      "Answer). While building the predictive model for the survival chances for the passenger on the Titanic ship are as follows. The order of how the co-efficients are applied are important.\n",
      "\n",
      "*). Use PClass, the higher the class the higher the survival rate.\n",
      "*). Use Age, the lower the Age the better chances for Survival.\n",
      "*). Use Sex as the attribute. Female gets higher points when it comes to Survival.\n",
      "\n",
      "We can leave out, PassengerID, Name, SibSp, Parch, Ticket, Cabin and Embarked. We can also exclude the Fare amount too, as it is directly co-related with the PClass attribute. We can also compute the correlation between PClass and Fare to confirm higher co-relation."
     ]
    }
   ],
   "metadata": {}
  }
 ]
}