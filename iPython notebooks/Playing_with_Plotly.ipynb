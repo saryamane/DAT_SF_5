{
 "metadata": {
  "name": ""
 },
 "nbformat": 3,
 "nbformat_minor": 0,
 "worksheets": [
  {
   "cells": [
    {
     "cell_type": "code",
     "collapsed": false,
     "input": [
      "pip install plotly"
     ],
     "language": "python",
     "metadata": {},
     "outputs": [
      {
       "ename": "SyntaxError",
       "evalue": "invalid syntax (<ipython-input-3-7e7146080843>, line 1)",
       "output_type": "pyerr",
       "traceback": [
        "\u001b[0;36m  File \u001b[0;32m\"<ipython-input-3-7e7146080843>\"\u001b[0;36m, line \u001b[0;32m1\u001b[0m\n\u001b[0;31m    pip install plotly\u001b[0m\n\u001b[0m              ^\u001b[0m\n\u001b[0;31mSyntaxError\u001b[0m\u001b[0;31m:\u001b[0m invalid syntax\n"
       ]
      }
     ],
     "prompt_number": 3
    },
    {
     "cell_type": "code",
     "collapsed": false,
     "input": [
      "import plotly"
     ],
     "language": "python",
     "metadata": {},
     "outputs": [],
     "prompt_number": 4
    },
    {
     "cell_type": "code",
     "collapsed": false,
     "input": [
      "print plotly.__version__"
     ],
     "language": "python",
     "metadata": {},
     "outputs": [
      {
       "output_type": "stream",
       "stream": "stdout",
       "text": [
        "0.5.13\n"
       ]
      }
     ],
     "prompt_number": 5
    },
    {
     "cell_type": "code",
     "collapsed": false,
     "input": [
      "py = plotly.plotly('samirarya','fipbx3u2mf')"
     ],
     "language": "python",
     "metadata": {},
     "outputs": [],
     "prompt_number": 15
    },
    {
     "cell_type": "code",
     "collapsed": false,
     "input": [
      "print py"
     ],
     "language": "python",
     "metadata": {},
     "outputs": [
      {
       "output_type": "stream",
       "stream": "stdout",
       "text": [
        "<plotly.plotly.plotly instance at 0x103edccb0>\n"
       ]
      }
     ],
     "prompt_number": 16
    },
    {
     "cell_type": "code",
     "collapsed": false,
     "input": [
      "import urllib2, StringIO, csv\n",
      "\n",
      "url = 'https://gist.github.com/chriddyp/8818473/raw/d8c73ff66a190a84eb8c6c19df4d8865673234ca/2007gapminder.csv'\n",
      "response = urllib2.urlopen(url).read()\n",
      "output = StringIO.StringIO(response)\n",
      "cr = csv.reader(output)\n",
      "def tryFloat(d):\n",
      "    try:\n",
      "        return float(d)\n",
      "    except ValueError:\n",
      "        return d\n",
      "\n",
      "data = [[tryFloat(dij) for dij in di] for di in cr]"
     ],
     "language": "python",
     "metadata": {},
     "outputs": [],
     "prompt_number": 17
    },
    {
     "cell_type": "code",
     "collapsed": false,
     "input": [
      "for row in data[:10]:\n",
      "    print row"
     ],
     "language": "python",
     "metadata": {},
     "outputs": [
      {
       "output_type": "stream",
       "stream": "stdout",
       "text": [
        "['Country', 'Population', 'Continent', 'lifeExp', 'gdpPercap']\n",
        "['Afghanistan', 31889923.0, 'Asia', 43.828, 974.5803384]\n",
        "['Albania', 3600523.0, 'Europe', 76.423, 5937.029526]\n",
        "['Algeria', 33333216.0, 'Africa', 72.301, 6223.367465]\n",
        "['Angola', 12420476.0, 'Africa', 42.731, 4797.231267]\n",
        "['Argentina', 40301927.0, 'Americas', 75.32, 12779.37964]\n",
        "['Australia', 20434176.0, 'Oceania', 81.235, 34435.36744]\n",
        "['Austria', 8199783.0, 'Europe', 79.829, 36126.4927]\n",
        "['Bahrain', 708573.0, 'Asia', 75.635, 29796.04834]\n",
        "['Bangladesh', 150448339.0, 'Asia', 64.062, 1391.253792]\n"
       ]
      }
     ],
     "prompt_number": 18
    },
    {
     "cell_type": "code",
     "collapsed": false,
     "input": [
      "import math\n",
      "graph_data = [] # the data structure that will describe our plotly graph\n",
      "for continent in ['Asia', 'Europe', 'Africa', 'Americas', 'Oceania']:\n",
      "    graph_data.append(\n",
      "    {\n",
      "        'name': continent, # the \"name\" of this series is the Continent\n",
      "        'x': [row[4] for row in data if row[2] == continent], # \"x\" data is GDP Per Capita\n",
      "        'y': [row[3] for row in data if row[2] == continent], # \"y\" data is Life Expectancy\n",
      "        'text': [row[0] for row in data if row[2] == continent], # \"text\" data is the Country\n",
      "        \n",
      "        'type': 'scatter',\n",
      "        'mode': 'markers',\n",
      "\n",
      "        'marker': { # specify the style of the individual scatter points\n",
      "            'size': [math.sqrt(row[1])/1.e3 for row in data if row[2] == continent], # scale the \"marker\" size to each Country's population\n",
      "            'sizemode': 'area',\n",
      "            'sizeref': 0.05,\n",
      "            'opacity': 0.55\n",
      "        }\n",
      "    })"
     ],
     "language": "python",
     "metadata": {},
     "outputs": [],
     "prompt_number": 19
    },
    {
     "cell_type": "code",
     "collapsed": false,
     "input": [
      "print graph_data"
     ],
     "language": "python",
     "metadata": {},
     "outputs": [
      {
       "output_type": "stream",
       "stream": "stdout",
       "text": [
        "[{'name': 'Asia', 'text': ['Afghanistan', 'Bahrain', 'Bangladesh', 'Cambodia', 'China', 'Hong Kong', 'India', 'Indonesia', 'Iran', 'Iraq', 'Israel', 'Japan', 'Jordan', 'Korea Dem. Rep.', 'Korea Rep.', 'Kuwait', 'Lebanon', 'Malaysia', 'Mongolia', 'Myanmar', 'Nepal', 'Oman', 'Pakistan', 'Philippines', 'Saudi Arabia', 'Singapore', 'Sri Lanka', 'Syria', 'Taiwan', 'Thailand', 'Vietnam', 'West Bank and Gaza', 'Yemen Rep.'], 'marker': {'opacity': 0.55, 'sizemode': 'area', 'sizeref': 0.05, 'size': [5.647116343763426, 0.8417677827049452, 12.265738420494706, 3.7592363586239164, 36.31367643188996, 2.642046933723926, 33.322609906788514, 14.95148822024082, 8.333880848680282, 5.2440097253914395, 2.535089544769573, 11.290171477882875, 2.4603237591829252, 4.827186033291031, 7.003198554946161, 1.5828957640981924, 1.9802217047593433, 4.982096546635764, 1.6953250425803308, 6.911004268556054, 5.376038504326397, 1.790222611855855, 13.010404182806928, 9.543442093919783, 5.253669003658301, 2.133778104677241, 4.514226290296046, 4.394854605103563, 4.813968633051113, 8.066483062648802, 9.233761746980479, 2.004577761025997, 4.7129335874803076]}, 'mode': 'markers', 'y': [43.828, 75.635, 64.062, 59.723, 72.961, 82.208, 64.698, 70.65, 70.964, 59.545, 80.745, 82.603, 72.535, 67.297, 78.623, 77.588, 71.993, 74.241, 66.803, 62.069, 63.785, 75.64, 65.483, 71.688, 72.777, 79.972, 72.396, 74.143, 78.4, 70.616, 74.249, 73.422, 62.698], 'x': [974.5803384, 29796.04834, 1391.253792, 1713.778686, 4959.114854, 39724.97867, 2452.210407, 3540.651564, 11605.71449, 4471.061906, 25523.2771, 31656.06806, 4519.461171, 1593.06548, 23348.13973, 47306.98978, 10461.05868, 12451.6558, 3095.772271, 944.0, 1091.359778, 22316.19287, 2605.94758, 3190.481016, 21654.83194, 47143.17964, 3970.095407, 4184.548089, 28718.27684, 7458.396327, 2441.576404, 3025.349798, 2280.769906], 'type': 'scatter'}, {'name': 'Europe', 'text': ['Albania', 'Austria', 'Belgium', 'Bosnia and Herzegovina', 'Bulgaria', 'Croatia', 'Czech Republic', 'Denmark', 'Finland', 'France', 'Germany', 'Greece', 'Hungary', 'Iceland', 'Ireland', 'Italy', 'Montenegro', 'Netherlands', 'Norway', 'Poland', 'Portugal', 'Romania', 'Serbia', 'Slovak Republic', 'Slovenia', 'Spain', 'Sweden', 'Switzerland', 'Turkey', 'United Kingdom'], 'marker': {'opacity': 0.55, 'sizemode': 'area', 'sizeref': 0.05, 'size': [1.8975044136971064, 2.8635263225610483, 3.2236975664599803, 2.1335880577093604, 2.7060779737472456, 2.119743380694937, 3.1982407664214403, 2.338401163188216, 2.2887682276718193, 7.815620000998001, 9.077499435417224, 3.2720467600570746, 3.155330093666905, 0.5494824837972544, 2.0270880592613634, 7.625466084115777, 0.827487764259992, 4.070701782248363, 2.1512614903818643, 6.206306550598351, 3.2623359728881387, 4.719751688383617, 3.185948053562707, 2.3339884318479385, 1.4174783948970793, 6.359889228595102, 3.005176866675238, 2.748574357735297, 8.43555848773512, 7.7959116208433255]}, 'mode': 'markers', 'y': [76.423, 79.829, 79.441, 74.852, 73.005, 75.748, 76.486, 78.332, 79.313, 80.657, 79.406, 79.483, 73.338, 81.757, 78.885, 80.546, 74.543, 79.762, 80.196, 75.563, 78.098, 72.476, 74.002, 74.663, 77.926, 80.941, 80.884, 81.701, 71.777, 79.425], 'x': [5937.029526, 36126.4927, 33692.60508, 7446.298803, 10680.79282, 14619.22272, 22833.30851, 35278.41874, 33207.0844, 30470.0167, 32170.37442, 27538.41188, 18008.94444, 36180.78919, 40675.99635, 28569.7197, 9253.896111, 36797.93332, 49357.19017, 15389.92468, 20509.64777, 10808.47561, 9786.534714, 18678.31435, 25768.25759, 28821.0637, 33859.74835, 37506.41907, 8458.276384, 33203.26128], 'type': 'scatter'}, {'name': 'Africa', 'text': ['Algeria', 'Angola', 'Benin', 'Botswana', 'Burkina Faso', 'Burundi', 'Cameroon', 'Central African Republic', 'Chad', 'Comoros', 'Congo Dem. Rep.', 'Congo Rep.', \"Cote d'Ivoire\", 'Djibouti', 'Egypt', 'Equatorial Guinea', 'Eritrea', 'Ethiopia', 'Gabon', 'Gambia', 'Ghana', 'Guinea', 'Guinea-Bissau', 'Kenya', 'Lesotho', 'Liberia', 'Libya', 'Madagascar', 'Malawi', 'Mali', 'Mauritania', 'Mauritius', 'Morocco', 'Mozambique', 'Namibia', 'Niger', 'Nigeria', 'Reunion', 'Rwanda', 'Sao Tome and Principe', 'Senegal', 'Sierra Leone', 'Somalia', 'Sudan', 'Swaziland', 'Tanzania', 'Togo', 'Tunisia', 'Uganda', 'Zambia', 'Zimbabwe'], 'marker': {'opacity': 0.55, 'sizemode': 'area', 'sizeref': 0.05, 'size': [5.773492530522578, 3.524269569712283, 2.8422374988730272, 1.2802855150317056, 3.7849970937901656, 2.896636842961161, 4.2066962096162825, 2.0902243898682262, 3.1998135883204197, 0.8431844400841373, 8.03783297910575, 1.9495153243819348, 4.244220658731117, 0.7045381465896648, 8.959048107918608, 0.7424291211960911, 2.2150812626176943, 8.747107350433057, 1.2061786766478673, 1.2993686928658856, 4.782607866007833, 3.154015535789258, 1.213276967555224, 5.967426329666751, 1.4186786105386942, 1.787160317375025, 2.457013227477622, 4.3780879388153, 3.6506272063852263, 3.468687792234983, 1.8083321044542675, 1.1184283615860249, 5.810092512172246, 4.466727661275086, 1.4335550216158428, 3.5909420769486107, 11.620291046269022, 0.8933610692211744, 2.976673982820423, 0.44674265522781686, 3.502498108493422, 2.4788227044304723, 3.019730617124647, 6.503301392369878, 1.064455729469291, 6.175729916374258, 2.3877979395250346, 3.205644708947016, 5.400962691965202, 3.427248896710013, 3.5087238420827593]}, 'mode': 'markers', 'y': [72.301, 42.731, 56.728, 50.728, 52.295, 49.58, 50.43, 44.741, 50.651, 65.152, 46.462, 55.322, 48.328, 54.791, 71.338, 51.579, 58.04, 52.947, 56.735, 59.448, 60.022, 56.007, 46.388, 54.11, 42.592, 45.678, 73.952, 59.443, 48.303, 54.467, 64.164, 72.801, 71.164, 42.082, 52.906, 56.867, 46.859, 76.442, 46.242, 65.528, 63.062, 42.568, 48.159, 58.556, 39.613, 52.517, 58.42, 73.923, 51.542, 42.384, 43.487], 'x': [6223.367465, 4797.231267, 1441.284873, 12569.85177, 1217.032994, 430.0706916, 2042.09524, 706.016537, 1704.063724, 986.1478792, 277.5518587, 3632.557798, 1544.750112, 2082.481567, 5581.180998, 12154.08975, 641.3695236, 690.8055759, 13206.48452, 752.7497265, 1327.60891, 942.6542111, 579.231743, 1463.249282, 1569.331442, 414.5073415, 12057.49928, 1044.770126, 759.3499101, 1042.581557, 1803.151496, 10956.99112, 3820.17523, 823.6856205, 4811.060429, 619.6768924, 2013.977305, 7670.122558, 863.0884639, 1598.435089, 1712.472136, 862.5407561, 926.1410683, 2602.394995, 4513.480643, 1107.482182, 882.9699438, 7092.923025, 1056.380121, 1271.211593, 469.7092981], 'type': 'scatter'}, {'name': 'Americas', 'text': ['Argentina', 'Bolivia', 'Brazil', 'Canada', 'Chile', 'Colombia', 'Costa Rica', 'Cuba', 'Dominican Republic', 'Ecuador', 'El Salvador', 'Guatemala', 'Haiti', 'Honduras', 'Jamaica', 'Mexico', 'Nicaragua', 'Panama', 'Paraguay', 'Peru', 'Puerto Rico', 'Trinidad and Tobago', 'United States', 'Uruguay', 'Venezuela'], 'marker': {'opacity': 0.55, 'sizemode': 'area', 'sizeref': 0.05, 'size': [6.348379872061848, 3.0197933704146047, 13.784434953961659, 5.77842028585668, 4.035435664212725, 6.650379688408775, 2.033195514455017, 3.3789032244206103, 3.052805594858605, 3.7088650555122653, 2.6343287570081304, 3.5458324833528163, 2.915958504505851, 2.7356467242683222, 1.6673727837529315, 10.42597194509941, 2.3823005687780037, 1.8006035099377098, 2.5820819119462493, 5.354881604666905, 1.9855706988168416, 1.0279143933227124, 17.3533843096959, 1.8567433856082536, 5.1073145585522735]}, 'mode': 'markers', 'y': [75.32, 65.554, 72.39, 80.653, 78.553, 72.889, 78.782, 78.273, 72.235, 74.994, 71.878, 70.259, 60.916, 70.198, 72.567, 76.195, 72.899, 75.537, 71.752, 71.421, 78.746, 69.819, 78.242, 76.384, 73.747], 'x': [12779.37964, 3822.137084, 9065.800825, 36319.23501, 13171.63885, 7006.580419, 9645.06142, 8948.102923, 6025.374752, 6873.262326, 5728.353514, 5186.050003, 1201.637154, 3548.330846, 7320.880262, 11977.57496, 2749.320965, 9809.185636, 4172.838464, 7408.905561, 19328.70901, 18008.50924, 42951.65309, 10611.46299, 11415.80569], 'type': 'scatter'}, {'name': 'Oceania', 'text': ['Australia', 'New Zealand'], 'marker': {'opacity': 0.55, 'sizemode': 'area', 'sizeref': 0.05, 'size': [4.520417679816767, 2.0287363061768278]}, 'mode': 'markers', 'y': [81.235, 80.204], 'x': [34435.36744, 25185.00911], 'type': 'scatter'}]\n"
       ]
      }
     ],
     "prompt_number": 20
    },
    {
     "cell_type": "code",
     "collapsed": false,
     "input": [
      "layout = {\n",
      "    'xaxis': {'title': 'GDP Per Capita'},\n",
      "    'yaxis': {'title': 'Life Expectancy'},\n",
      "    'title': 'Hans Rosling Bubble Chart<br>2007'\n",
      "}"
     ],
     "language": "python",
     "metadata": {},
     "outputs": [],
     "prompt_number": 21
    },
    {
     "cell_type": "code",
     "collapsed": false,
     "input": [
      "print layout"
     ],
     "language": "python",
     "metadata": {},
     "outputs": [
      {
       "output_type": "stream",
       "stream": "stdout",
       "text": [
        "{'title': 'Hans Rosling Bubble Chart<br>2007', 'xaxis': {'title': 'GDP Per Capita'}, 'yaxis': {'title': 'Life Expectancy'}}\n"
       ]
      }
     ],
     "prompt_number": 22
    },
    {
     "cell_type": "code",
     "collapsed": false,
     "input": [
      "py.iplot(graph_data, layout=layout, \n",
      "         filename='My first plotly graph', fileopt='overwrite', \n",
      "         world_readable=True, width=1000, height=650)"
     ],
     "language": "python",
     "metadata": {},
     "outputs": [
      {
       "html": [
        "<iframe height=\"675\" id=\"igraph\" scrolling=\"no\" seamless=\"seamless\" src=\"https://plot.ly/~samirarya/5/1000/650\" width=\"1025\"></iframe>"
       ],
       "metadata": {},
       "output_type": "pyout",
       "prompt_number": 23,
       "text": [
        "<IPython.core.display.HTML at 0x103ecff10>"
       ]
      }
     ],
     "prompt_number": 23
    },
    {
     "cell_type": "code",
     "collapsed": false,
     "input": [],
     "language": "python",
     "metadata": {},
     "outputs": []
    }
   ],
   "metadata": {}
  }
 ]
}